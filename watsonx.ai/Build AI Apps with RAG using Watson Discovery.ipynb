{
 "cells": [
  {
   "attachments": {},
   "cell_type": "markdown",
   "id": "26bfa626",
   "metadata": {},
   "source": [
    "# Hands-on: Build AI Apps with Retrieval-Augmented Generation (RAG) using watsonx.ai & Watson Discovery\n",
    "\n",
    "## Overview\n",
    "\n",
    "This Jupyter Notebook provides an example of how to:\n",
    "\n",
    "1. Create a Watson Discovery collection and upload documents to it.\n",
    "\n",
    "2. Customize this notebook to perform a simple RAG exercise.\n",
    "\n",
    "This source code performs the **Retrieval** task from the document(s) in the Watson Discovery collection. The retrieved information together with the prompt are passed to the Large Language Model (LLM) of your choice (as named in the Notebook) to generate the final result."
   ]
  },
  {
   "cell_type": "code",
   "execution_count": 1,
   "id": "b1345eb9",
   "metadata": {},
   "outputs": [
    {
     "name": "stdout",
     "output_type": "stream",
     "text": [
      "Collecting ibm-watson\n",
      "  Downloading ibm_watson-8.1.0.tar.gz (400 kB)\n",
      "\u001b[2K     \u001b[90m━━━━━━━━━━━━━━━━━━━━━━━━━━━━━━━━━━━━━━\u001b[0m \u001b[32m400.1/400.1 kB\u001b[0m \u001b[31m16.1 MB/s\u001b[0m eta \u001b[36m0:00:00\u001b[0m\n",
      "\u001b[?25h  Installing build dependencies ... \u001b[?25ldone\n",
      "\u001b[?25h  Getting requirements to build wheel ... \u001b[?25ldone\n",
      "\u001b[?25h  Preparing metadata (pyproject.toml) ... \u001b[?25ldone\n",
      "\u001b[?25hRequirement already satisfied: requests<3.0,>=2.0 in /opt/conda/envs/Python-RT23.1/lib/python3.10/site-packages (from ibm-watson) (2.31.0)\n",
      "Requirement already satisfied: python-dateutil>=2.5.3 in /opt/conda/envs/Python-RT23.1/lib/python3.10/site-packages (from ibm-watson) (2.8.2)\n",
      "Collecting websocket-client>=1.1.0 (from ibm-watson)\n",
      "  Downloading websocket_client-1.8.0-py3-none-any.whl.metadata (8.0 kB)\n",
      "Requirement already satisfied: ibm-cloud-sdk-core==3.*,>=3.3.6 in /opt/conda/envs/Python-RT23.1/lib/python3.10/site-packages (from ibm-watson) (3.16.5)\n",
      "Requirement already satisfied: urllib3<2.0.0,>=1.26.0 in /opt/conda/envs/Python-RT23.1/lib/python3.10/site-packages (from ibm-cloud-sdk-core==3.*,>=3.3.6->ibm-watson) (1.26.19)\n",
      "Requirement already satisfied: PyJWT<3.0.0,>=2.4.0 in /opt/conda/envs/Python-RT23.1/lib/python3.10/site-packages (from ibm-cloud-sdk-core==3.*,>=3.3.6->ibm-watson) (2.4.0)\n",
      "Requirement already satisfied: six>=1.5 in /opt/conda/envs/Python-RT23.1/lib/python3.10/site-packages (from python-dateutil>=2.5.3->ibm-watson) (1.16.0)\n",
      "Requirement already satisfied: charset-normalizer<4,>=2 in /opt/conda/envs/Python-RT23.1/lib/python3.10/site-packages (from requests<3.0,>=2.0->ibm-watson) (2.0.4)\n",
      "Requirement already satisfied: idna<4,>=2.5 in /opt/conda/envs/Python-RT23.1/lib/python3.10/site-packages (from requests<3.0,>=2.0->ibm-watson) (3.7)\n",
      "Requirement already satisfied: certifi>=2017.4.17 in /opt/conda/envs/Python-RT23.1/lib/python3.10/site-packages (from requests<3.0,>=2.0->ibm-watson) (2024.7.4)\n",
      "Downloading websocket_client-1.8.0-py3-none-any.whl (58 kB)\n",
      "\u001b[2K   \u001b[90m━━━━━━━━━━━━━━━━━━━━━━━━━━━━━━━━━━━━━━━━\u001b[0m \u001b[32m58.8/58.8 kB\u001b[0m \u001b[31m15.9 MB/s\u001b[0m eta \u001b[36m0:00:00\u001b[0m\n",
      "\u001b[?25hBuilding wheels for collected packages: ibm-watson\n",
      "  Building wheel for ibm-watson (pyproject.toml) ... \u001b[?25ldone\n",
      "\u001b[?25h  Created wheel for ibm-watson: filename=ibm_watson-8.1.0-py3-none-any.whl size=402520 sha256=dc937d752290ab52ba853c965e18000e445c3acf98fcc6a5a53fcbf1fdf6a32a\n",
      "  Stored in directory: /tmp/wsuser/.cache/pip/wheels/9c/ec/3d/75dc52e05ee4b84284f9f481ccbb85260985823c6c7083bf16\n",
      "Successfully built ibm-watson\n",
      "Installing collected packages: websocket-client, ibm-watson\n",
      "Successfully installed ibm-watson-8.1.0 websocket-client-1.8.0\n"
     ]
    }
   ],
   "source": [
    "# Install library\n",
    "!pip install --upgrade ibm-watson"
   ]
  },
  {
   "cell_type": "code",
   "execution_count": 2,
   "id": "39e97e07",
   "metadata": {},
   "outputs": [],
   "source": [
    "# Import libraries\n",
    "import json\n",
    "import os\n",
    "\n",
    "from ibm_watson import DiscoveryV2\n",
    "from ibm_cloud_sdk_core.authenticators import IAMAuthenticator\n",
    "\n",
    "# WML python SDK\n",
    "from ibm_watson_machine_learning.foundation_models import Model\n",
    "from ibm_watson_machine_learning.metanames import GenTextParamsMetaNames as GenParams\n",
    "from ibm_watson_machine_learning.foundation_models.utils.enums import ModelTypes, DecodingMethods"
   ]
  },
  {
   "cell_type": "markdown",
   "id": "1d5b8f3e",
   "metadata": {},
   "source": [
    "## 1. Watson Discovery set up\n",
    "\n",
    "When you set up Watson Discovery, you should have saved the credentials in a file called **ibm-credentials.env**. You will need to use the values from that file. You can open the file using a simple text editor.\n",
    "\n",
    "1. Find the value for **DISCOVERY_APIKEY** from the file and paste it as the value for **IAMAuthenticator** below (between the 2 single quotes).\n",
    "\n",
    "2. Find the value for **DISCOVERY_URL** from the file and paste it as the value for **discovery.set_service_url** below (between the 2 single quotes).\n",
    "\n",
    "This initializes a connection to a Watson Discovery instance with a preloaded pdf document (the IBM Annual Report 2022).\n"
   ]
  },
  {
   "cell_type": "code",
   "execution_count": 3,
   "id": "94ab9f92",
   "metadata": {},
   "outputs": [],
   "source": [
    "#Set up Watson Discovery credentials\n",
    "authenticator = IAMAuthenticator('YpDSgbRcLQfAL_-do6irVayn1Wp3lKyujt_uWVT_2CGO') # DISCOVERY_APIKEY  \n",
    "discovery = DiscoveryV2(\n",
    "    version='2020-08-30',\n",
    "    authenticator=authenticator\n",
    ")\n",
    "\n",
    "discovery.set_service_url('https://api.us-south.discovery.watson.cloud.ibm.com/instances/d24cbd3c-478c-4aed-900e-6e58c4c89c86') # DISCOVERY_URL"
   ]
  },
  {
   "cell_type": "markdown",
   "id": "e174c40e",
   "metadata": {},
   "source": [
    "## 2. Watson Discovery Search\n",
    "\n",
    "This is a simple question (prompt) that is being posted to the model. This can be surfaced in a Streamlit GUI - which is not the focus of the lab. Clients may have other GUI tools. Here we focus on the underlying Watson Discovery, and later on watsonx.ai.\n"
   ]
  },
  {
   "cell_type": "code",
   "execution_count": 4,
   "id": "eba2a135",
   "metadata": {},
   "outputs": [],
   "source": [
    "# question = 'I’m interested in IBM’s effect on the environment. What efforts have they been making in sustainability?'"
   ]
  },
  {
   "cell_type": "code",
   "execution_count": 5,
   "id": "23a3a855",
   "metadata": {},
   "outputs": [],
   "source": [
    "question = 'I’m interested in IBM’s initiatives on the business in AI. What efforts have they been making in AI?'"
   ]
  },
  {
   "cell_type": "code",
   "execution_count": 6,
   "id": "5d4fca9c",
   "metadata": {},
   "outputs": [],
   "source": [
    "#question = 'What is IBM net profit and revenue in 2022?'"
   ]
  },
  {
   "cell_type": "code",
   "execution_count": 7,
   "id": "1a00d2fe",
   "metadata": {},
   "outputs": [],
   "source": [
    "#question = 'For the year ended December 31, how much is Total revenue for Year 2021 and Year 2022. How much are the difference in USD and in %?' #Page 17"
   ]
  },
  {
   "cell_type": "markdown",
   "id": "f3023c15",
   "metadata": {},
   "source": [
    "For the block below, you will need to provide the proper information from the Watson Discovery project you created.\n",
    "\n",
    "1. The **Project ID**, paste the value in for **project_id** below (between the 2 single quotes).\n",
    "\n",
    "2. The **Collection ID** (for the collection that includes the IBM Annual Report 2022 report), paste the value in for **collection_ids** below (between the 2 single quotes).\n",
    "\n",
    "There are a few parameters defined for Watson Discovery Search:\n",
    "\n",
    "- **passages.enabled**: A Boolean that specifies whether the service returns a set of the most relevant passage from the documents that were returned by a query that uses the natural_language_query parameter. Watson Discovery uses sophisticated algorithms to determine the best passages of text from all of the documents that are returned by a query. They are displayed as a section within each document query result and are ordered by passage relevance. Including passage retrieval in queries increases the response time because it takes more time to score the passages.\n",
    "\n",
    "- **passages.max_per_document**: One passage is returned per document by default. You can increase the maximum number of passages to return per document by specifying a higher number in the passages.max_per_document parameter.\n",
    "\n",
    "- **find_answers**: By default, Watson Discovery provides answers by returning the entire passage that contains the answer to a natural language query. When the answer-finding feature is enabled, Watson Discovery also provides a \"short answer\" within the passage, and a confidence score to show whether the \"short answer\" answers the question that is explicit or implicit in the user query.\n",
    "\n",
    "- **natural_language_query**: Use a natural language query to enter queries that are expressed in natural language, as might be received from a user in a conversational or free-text interface, such as IBM Watson Assistant. The parameter uses the entire input as the query text. It does not recognize operators. The maximum query string length for a natural language query is 2048.\n",
    "\n",
    "For more details on the query parameters, see https://cloud.ibm.com/docs/discovery-data?topic=discovery-data-query-parameters.\n"
   ]
  },
  {
   "cell_type": "code",
   "execution_count": 9,
   "id": "ba64b96d",
   "metadata": {},
   "outputs": [],
   "source": [
    "# Utilize the IBM Watson Discovery service to query a collection for information based on a natural language query\n",
    "response = discovery.query(\n",
    "  project_id='398c5d89-90ab-47ef-870b-ec8a39eff661',\n",
    "  collection_ids = ['87e7ee66-42f9-a57e-0000-0191209e77a7'],\n",
    "  passages = {'enabled': True, \n",
    "              'max_per_document': 5,\n",
    "             'find_answers': True},\n",
    "  natural_language_query = question\n",
    ").get_result()\n",
    "\n",
    "with open('data.json', 'w') as f:\n",
    "    json.dump(response, f)"
   ]
  },
  {
   "cell_type": "markdown",
   "id": "cae6b7c9",
   "metadata": {},
   "source": [
    "The next 4 blocks provide some parsing for the output. You should not need to update these.\n"
   ]
  },
  {
   "cell_type": "code",
   "execution_count": 10,
   "id": "60e7f453",
   "metadata": {},
   "outputs": [
    {
     "data": {
      "text/plain": [
       "dict_keys(['matching_results', 'retrieval_details', 'aggregations', 'results'])"
      ]
     },
     "execution_count": 10,
     "metadata": {},
     "output_type": "execute_result"
    }
   ],
   "source": [
    "# Inspecting the key fields in the WD output\n",
    "response.keys()"
   ]
  },
  {
   "cell_type": "code",
   "execution_count": 11,
   "id": "787e54bf",
   "metadata": {},
   "outputs": [
    {
     "data": {
      "text/plain": [
       "2"
      ]
     },
     "execution_count": 11,
     "metadata": {},
     "output_type": "execute_result"
    }
   ],
   "source": [
    "# Only one relevant document (because one document in the collection)\n",
    "len(response['results'])"
   ]
  },
  {
   "cell_type": "code",
   "execution_count": 12,
   "id": "f399b32a",
   "metadata": {},
   "outputs": [
    {
     "data": {
      "text/plain": [
       "['Data & AI: accelerates data-driven agendas by infusing AI throughout the enterprise, empowering intelligent decision making. The portfolio includes capabilities that simplify data consumption through data fabric with data management, optimize lifecycle management,  and make better predictions through business analytics.',\n",
       " 'Management Discussion International Business Machines Corporation and Subsidiary Companies                        11   DESCRIPTION OF BUSINESS Please refer to IBM’s Annual Report on Form 10-K filed with the SEC on February 28, 2023, for Item 1A. entitled “Risk Factors.” IBM is addressing the hybrid cloud and AI opportunity with a platform-centric approach, focused on providing',\n",
       " 'As we enter 2023, we will continue to advance our R&D innovation, inorganic investment and fast-growing ecosystem, positioning IBM as a leader in a world where hybrid cloud and AI are central to enterprise success.   14 Management Discussion International Business Machines Corporation and Subsidiary Companies  Business Segments and Capabilities IBM operates',\n",
       " 'Automation: optimizes processes from business workflows to IT operations with AI-powered automation. Automation includes software for business automation, IT automation,  integration and application runtimes. Data & AI: accelerates data-driven agendas by infusing AI throughout the enterprise, empowering intelligent decision making.',\n",
       " 'business processes. IBM Consulting drives transformative projects across different industries with its IBM Garage method. IBM Consulting has dedicated talent in practices to support IBM technology and continues to invest in the industry’s largest Red Hat practice to make hybrid cloud a foundation for innovation and business growth, enabling clients to get more value from investments.']"
      ]
     },
     "execution_count": 12,
     "metadata": {},
     "output_type": "execute_result"
    }
   ],
   "source": [
    "# Removing some tags\n",
    "passages = response['results'][0]['document_passages']\n",
    "passages = [p['passage_text'].replace('<em>', '').replace('</em>', '').replace('\\n','') for p in passages]\n",
    "passages"
   ]
  },
  {
   "cell_type": "code",
   "execution_count": 13,
   "id": "e662b1e2",
   "metadata": {},
   "outputs": [
    {
     "data": {
      "text/plain": [
       "'Data & AI: accelerates data-driven agendas by infusing AI throughout the enterprise, empowering intelligent decision making. The portfolio includes capabilities that simplify data consumption through data fabric with data management, optimize lifecycle management,  and make better predictions through business analytics.\\n Management Discussion International Business Machines Corporation and Subsidiary Companies                        11   DESCRIPTION OF BUSINESS Please refer to IBM’s Annual Report on Form 10-K filed with the SEC on February 28, 2023, for Item 1A. entitled “Risk Factors.” IBM is addressing the hybrid cloud and AI opportunity with a platform-centric approach, focused on providing\\n As we enter 2023, we will continue to advance our R&D innovation, inorganic investment and fast-growing ecosystem, positioning IBM as a leader in a world where hybrid cloud and AI are central to enterprise success.   14 Management Discussion International Business Machines Corporation and Subsidiary Companies  Business Segments and Capabilities IBM operates\\n Automation: optimizes processes from business workflows to IT operations with AI-powered automation. Automation includes software for business automation, IT automation,  integration and application runtimes. Data & AI: accelerates data-driven agendas by infusing AI throughout the enterprise, empowering intelligent decision making.\\n business processes. IBM Consulting drives transformative projects across different industries with its IBM Garage method. IBM Consulting has dedicated talent in practices to support IBM technology and continues to invest in the industry’s largest Red Hat practice to make hybrid cloud a foundation for innovation and business growth, enabling clients to get more value from investments.'"
      ]
     },
     "execution_count": 13,
     "metadata": {},
     "output_type": "execute_result"
    }
   ],
   "source": [
    "# Concatenating passages\n",
    "context = '\\n '.join(passages)\n",
    "context"
   ]
  },
  {
   "cell_type": "markdown",
   "id": "2c5199df",
   "metadata": {},
   "source": [
    "## 3. Creating Prompt\n",
    "\n",
    "This section creates a prompt with instructions and context to allow the LLM to generate answers based on the passages retrieved by Watson Discovery, and on the rules specified below.\n",
    "\n",
    "- `<s>` `</s>`: Indicates the start and end of a sequence.\n",
    "- `[INST]` `[/INST]`: Suggests an instruction or command is being provided.\n",
    "- `<<SYS>>` `<</SYS>>`: Denotes the beginning of a system message, which in this case is giving specific instructions for how to process the input text.\n",
    "\n",
    "Reference: https://huggingface.co/blog/llama2#how-to-prompt-llama-2\n"
   ]
  },
  {
   "cell_type": "code",
   "execution_count": 14,
   "id": "92c047d1",
   "metadata": {},
   "outputs": [
    {
     "name": "stdout",
     "output_type": "stream",
     "text": [
      "----------------------------------------------------------------------------------------------------\n",
      "*** Prompt:<s>[INST] <<SYS>> Please answer the following question in one sentence using this text. If the question is unanswerable, say 'unanswerable'. If you responded to the question, don't say 'unanswerable'. Do not include information that's not relevant to the question. Do not answer other questions. Make sure the language used is English.vDo not use repetitions. <</SYS>>' Question:I’m interested in IBM’s initiatives on the business in AI. What efforts have they been making in AI?Data & AI: accelerates data-driven agendas by infusing AI throughout the enterprise, empowering intelligent decision making. The portfolio includes capabilities that simplify data consumption through data fabric with data management, optimize lifecycle management,  and make better predictions through business analytics.\n",
      " Management Discussion International Business Machines Corporation and Subsidiary Companies                        11   DESCRIPTION OF BUSINESS Please refer to IBM’s Annual Report on Form 10-K filed with the SEC on February 28, 2023, for Item 1A. entitled “Risk Factors.” IBM is addressing the hybrid cloud and AI opportunity with a platform-centric approach, focused on providing\n",
      " As we enter 2023, we will continue to advance our R&D innovation, inorganic investment and fast-growing ecosystem, positioning IBM as a leader in a world where hybrid cloud and AI are central to enterprise success.   14 Management Discussion International Business Machines Corporation and Subsidiary Companies  Business Segments and Capabilities IBM operates\n",
      " Automation: optimizes processes from business workflows to IT operations with AI-powered automation. Automation includes software for business automation, IT automation,  integration and application runtimes. Data & AI: accelerates data-driven agendas by infusing AI throughout the enterprise, empowering intelligent decision making.\n",
      " business processes. IBM Consulting drives transformative projects across different industries with its IBM Garage method. IBM Consulting has dedicated talent in practices to support IBM technology and continues to invest in the industry’s largest Red Hat practice to make hybrid cloud a foundation for innovation and business growth, enabling clients to get more value from investments.[/INST]***\n",
      "----------------------------------------------------------------------------------------------------\n"
     ]
    }
   ],
   "source": [
    "prompt = \\\n",
    "\"<s>[INST] <<SYS>> \\\n",
    "Please answer the following question in one sentence using this text. \\\n",
    "If the question is unanswerable, say 'unanswerable'. \\\n",
    "If you responded to the question, don't say 'unanswerable'. \\\n",
    "Do not include information that's not relevant to the question. \\\n",
    "Do not answer other questions. \\\n",
    "Make sure the language used is English.v\\\n",
    "Do not use repetitions. <</SYS>>' \\\n",
    "Question:\" + question \\\n",
    "+ context + '[/INST]'\n",
    "\n",
    "print(\"----------------------------------------------------------------------------------------------------\")\n",
    "print(\"*** Prompt:\" + prompt + \"***\")\n",
    "print(\"----------------------------------------------------------------------------------------------------\")"
   ]
  },
  {
   "cell_type": "markdown",
   "id": "15f237cb",
   "metadata": {},
   "source": [
    "## 4. Configuring watsonx.ai\n",
    "\n",
    "The following section defines the input to the Large Language Model (LLM).\n"
   ]
  },
  {
   "cell_type": "markdown",
   "id": "fdf44eba",
   "metadata": {},
   "source": [
    "Provides the credential for watsonx.ai as indicated below\n",
    "\n",
    "1. `watsonx_project_id` - The watsonx.ai **Project ID** provided in watsonx.ai project -> manage -> project id\n",
    "2. `api_key` - The **API Key** provided in IBM Cloud -> Manage -> API Key\n",
    "\n",
    "> :white_check_mark: DO paste the value between the 2 double quotes\n",
    "\n",
    "> :exclamation: DO NOT use the one for Waston Discovery\n"
   ]
  },
  {
   "cell_type": "code",
   "execution_count": 16,
   "id": "235e0b9e",
   "metadata": {},
   "outputs": [],
   "source": [
    "# URL of the hosted LLMs is hardcoded because at this time all LLMs share the same endpoint\n",
    "url = \"https://us-south.ml.cloud.ibm.com\"\n",
    "\n",
    "# Replace with your watsonx project id (look up in the project Manage tab)\n",
    "watsonx_project_id = \"bc719555-fa95-4787-8c60-4bf93019cb02\"\n",
    "\n",
    "# Replace with your IBM Cloud key\n",
    "api_key = \"YhsDtKY62OcY3yBAMRF39wEyUxdXH3dgwo6aZLIeEGCz\""
   ]
  },
  {
   "cell_type": "code",
   "execution_count": 17,
   "id": "f2048b47",
   "metadata": {},
   "outputs": [],
   "source": [
    "model_init = None\n",
    "# Initialize the watsonx model\n",
    "def get_model(model_type,max_tokens,min_tokens,decoding,temperature):#, repetition_penalty):\n",
    "\n",
    "    generate_params = {\n",
    "        GenParams.MAX_NEW_TOKENS: max_tokens,\n",
    "        GenParams.MIN_NEW_TOKENS: min_tokens,\n",
    "        GenParams.DECODING_METHOD: decoding,\n",
    "        GenParams.TEMPERATURE: temperature,\n",
    "    }\n",
    "    global model_init\n",
    "    if model_init == None:\n",
    "        model_init = Model(\n",
    "            model_id=model_type,\n",
    "            params=generate_params,\n",
    "            credentials={\n",
    "                \"apikey\": api_key,\n",
    "                \"url\": url\n",
    "            },\n",
    "            project_id= watsonx_project_id\n",
    "            )\n",
    "\n",
    "    return model_init"
   ]
  },
  {
   "cell_type": "markdown",
   "id": "d9779123",
   "metadata": {},
   "source": [
    "The following block specifies the the specifics for the LLM. In a PoX, you may want to vary these values to show a client how they can get the best results.\n",
    "\n",
    "1. **model_type** specifies the LLM being used. In the example below it is the llama-2-70b-chat model. You can change it to other models. Note that the size of the model will have implications on resource usage. You may wish to try some of the other ones in a PoX and see if they will provide different results. In the block below, there are 4 models (with 3 commented out, so llama2 is being used - you can comment out different ones to try). Refer [here](https://dataplatform.cloud.ibm.com/docs/content/wsj/analyze-data/fm-api-model-ids.html?context=wx&audience=wdp), for exhaustive list of models supported.\n",
    "\n",
    "2. **max_tokens** specifies the maximum number of output tokens. Keep in mind that 1 token does not equal 1 word. In general, you can estimate roughly 3 tokens per word.\n",
    "\n",
    "3. **min_tokens** specifies the minimum number of output tokens.\n",
    "\n",
    "4. **decoding** specifies the decoding method. You can also choose to do **sampling** decoding - in which case you can specify more parameters (such as **Top-P** and **Top-K**). More information on these additional parameters can be found from the Watsonx.ai Technical Sales Level 3 class (https://learn.ibm.com/course/view.php?id=13452).\n",
    "\n",
    "5. **temperature** specifies how conservative or creative the model will be. The lower it is, the more conservative it it. The range is from 0 to 2."
   ]
  },
  {
   "cell_type": "code",
   "execution_count": 18,
   "id": "5b867491",
   "metadata": {},
   "outputs": [],
   "source": [
    "# Set up watsonx model and parameters\n",
    "model_type = \"meta-llama/llama-2-70b-chat\"\n",
    "# model_type = \"google/flan-t5-xxl\"\n",
    "# model_type = \"ibm/granite-13b-chat-v1\"\n",
    "# model_type = \"ibm/granite-13b-instruct-v1\"\n",
    "# model_id = \"ibm/mpt-7b-instruct2\"\n",
    "max_tokens = 100\n",
    "min_tokens = 50\n",
    "decoding = DecodingMethods.GREEDY\n",
    "temperature = 0.7\n",
    "\n",
    "# Get the watsonx model\n",
    "model = get_model(model_type, max_tokens, min_tokens, decoding, temperature)"
   ]
  },
  {
   "cell_type": "markdown",
   "id": "d79b8207",
   "metadata": {},
   "source": [
    "## 5. Answer Generation\n",
    "\n",
    "This block generates the answer based on the input prompt, the specified parameters, and above all the specified Watson Discovery collection of data.\n"
   ]
  },
  {
   "cell_type": "code",
   "execution_count": 19,
   "id": "1e049cc7",
   "metadata": {},
   "outputs": [
    {
     "name": "stdout",
     "output_type": "stream",
     "text": [
      "--------------------------------- Generated response -----------------------------------\n",
      "  IBM has been making efforts in AI through its Data & AI portfolio, which includes capabilities to simplify data consumption, optimize lifecycle management, and make better predictions through business analytics, as well as its Automation portfolio, which optimizes processes from business workflows to IT operations with AI-powered automation.\n",
      "*********************************************************************************************\n"
     ]
    }
   ],
   "source": [
    "# Send a prompt to model\n",
    "generated_response = model.generate(prompt)\n",
    "response_text = generated_response['results'][0]['generated_text']\n",
    "\n",
    "# Print model response\n",
    "print(\"--------------------------------- Generated response -----------------------------------\")\n",
    "print(response_text)\n",
    "print(\"*********************************************************************************************\")"
   ]
  }
 ],
 "metadata": {
  "kernelspec": {
   "display_name": "Python 3.10",
   "language": "python",
   "name": "python3"
  },
  "language_info": {
   "codemirror_mode": {
    "name": "ipython",
    "version": 3
   },
   "file_extension": ".py",
   "mimetype": "text/x-python",
   "name": "python",
   "nbconvert_exporter": "python",
   "pygments_lexer": "ipython3",
   "version": "3.10.14"
  }
 },
 "nbformat": 4,
 "nbformat_minor": 5
}
