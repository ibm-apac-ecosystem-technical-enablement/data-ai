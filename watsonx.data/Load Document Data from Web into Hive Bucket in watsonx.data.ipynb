{
 "cells": [
  {
   "cell_type": "markdown",
   "id": "acbc29d5-76b4-4c9c-abdd-eaf8b4c00ebf",
   "metadata": {},
   "source": [
    "# Load Document Data from Web into Hive Catalog in watsonx.data"
   ]
  },
  {
   "cell_type": "markdown",
   "id": "8b8a6903-4e80-416a-a4f5-082906630f89",
   "metadata": {},
   "source": [
    "## Overview\n",
    "This Jupyter Notebook provides a step-by-step guide on how to prepare Web document data for RAG using Milvus as a vector database (in watsonx.data).\n",
    "\n",
    "In this notebook, we will prepare document data from the Web (Wikipedia) using a URL and populate it into the Hive Catalog (in watsonx.data). Here are the steps:\r",
    "1. Install and import libraries.\n",
    "2. Fetch web articles (Wikipedia articles) and populate into dataframe.\n",
    "3. Connect to watsonx.data.\n",
    "4. Create Schema and Table in Hive Catalog.\n",
    "5. Chunk the web documents and load into Hive Table.\n",
    "6. Check the loaded documents data in Hive Table."
   ]
  },
  {
   "cell_type": "markdown",
   "id": "42caa0db-566a-4092-af10-7636456504b3",
   "metadata": {},
   "source": [
    "- Author: ahmad.muzaffar@ibm.com (APAC Ecosystem Technical Enablement).\n",
    "- This material has been adopted from material originally produced by Katherine Ciaravalli, Ken Bailey and George Baklarz."
   ]
  },
  {
   "cell_type": "markdown",
   "id": "88ae50a6",
   "metadata": {},
   "source": [
    "## 1. Install and import libraries"
   ]
  },
  {
   "cell_type": "code",
   "execution_count": 1,
   "id": "fcb1010b",
   "metadata": {
    "scrolled": true
   },
   "outputs": [
    {
     "name": "stdout",
     "output_type": "stream",
     "text": [
      "Requirement already satisfied: python-dotenv in /usr/local/lib/python3.9/site-packages (1.0.1)\n",
      "\u001b[33mWARNING: Running pip as the 'root' user can result in broken permissions and conflicting behaviour with the system package manager. It is recommended to use a virtual environment instead: https://pip.pypa.io/warnings/venv\u001b[0m\n",
      "Requirement already satisfied: wikipedia in /usr/local/lib/python3.9/site-packages (1.4.0)\n",
      "Requirement already satisfied: beautifulsoup4 in /usr/local/lib/python3.9/site-packages (from wikipedia) (4.12.2)\n",
      "Requirement already satisfied: requests<3.0.0,>=2.0.0 in /usr/local/lib/python3.9/site-packages (from wikipedia) (2.31.0)\n",
      "Requirement already satisfied: certifi>=2017.4.17 in /usr/local/lib/python3.9/site-packages (from requests<3.0.0,>=2.0.0->wikipedia) (2023.7.22)\n",
      "Requirement already satisfied: charset-normalizer<4,>=2 in /usr/local/lib64/python3.9/site-packages (from requests<3.0.0,>=2.0.0->wikipedia) (3.3.0)\n",
      "Requirement already satisfied: urllib3<3,>=1.21.1 in /usr/lib/python3.9/site-packages (from requests<3.0.0,>=2.0.0->wikipedia) (1.26.5)\n",
      "Requirement already satisfied: idna<4,>=2.5 in /usr/lib/python3.9/site-packages (from requests<3.0.0,>=2.0.0->wikipedia) (2.10)\n",
      "Requirement already satisfied: soupsieve>1.2 in /usr/local/lib/python3.9/site-packages (from beautifulsoup4->wikipedia) (2.5)\n",
      "\u001b[33mWARNING: Running pip as the 'root' user can result in broken permissions and conflicting behaviour with the system package manager. It is recommended to use a virtual environment instead: https://pip.pypa.io/warnings/venv\u001b[0m\n",
      "Requirement already satisfied: pymilvus in /usr/local/lib/python3.9/site-packages (2.3.6)\n",
      "Requirement already satisfied: environs<=9.5.0 in /usr/local/lib/python3.9/site-packages (from pymilvus) (9.5.0)\n",
      "Requirement already satisfied: protobuf>=3.20.0 in /usr/local/lib64/python3.9/site-packages (from pymilvus) (4.25.3)\n",
      "Requirement already satisfied: minio>=7.0.0 in /usr/local/lib/python3.9/site-packages (from pymilvus) (7.2.5)\n",
      "Requirement already satisfied: setuptools>=67 in /usr/local/lib/python3.9/site-packages (from pymilvus) (69.1.1)\n",
      "Requirement already satisfied: ujson>=2.0.0 in /usr/local/lib64/python3.9/site-packages (from pymilvus) (5.9.0)\n",
      "Requirement already satisfied: requests in /usr/local/lib/python3.9/site-packages (from pymilvus) (2.31.0)\n",
      "Requirement already satisfied: pyarrow>=12.0.0 in /usr/local/lib64/python3.9/site-packages (from pymilvus) (13.0.0)\n",
      "Requirement already satisfied: pandas>=1.2.4 in /usr/local/lib64/python3.9/site-packages (from pymilvus) (2.1.4)\n",
      "Requirement already satisfied: grpcio<=1.60.0,>=1.49.1 in /usr/local/lib64/python3.9/site-packages (from pymilvus) (1.60.0)\n",
      "Requirement already satisfied: python-dotenv in /usr/local/lib/python3.9/site-packages (from environs<=9.5.0->pymilvus) (1.0.1)\n",
      "Requirement already satisfied: marshmallow>=3.0.0 in /usr/local/lib/python3.9/site-packages (from environs<=9.5.0->pymilvus) (3.21.1)\n",
      "Requirement already satisfied: packaging>=17.0 in /usr/local/lib/python3.9/site-packages (from marshmallow>=3.0.0->environs<=9.5.0->pymilvus) (23.2)\n",
      "Requirement already satisfied: certifi in /usr/local/lib/python3.9/site-packages (from minio>=7.0.0->pymilvus) (2023.7.22)\n",
      "Requirement already satisfied: pycryptodome in /usr/local/lib64/python3.9/site-packages (from minio>=7.0.0->pymilvus) (3.20.0)\n",
      "Requirement already satisfied: urllib3 in /usr/lib/python3.9/site-packages (from minio>=7.0.0->pymilvus) (1.26.5)\n",
      "Requirement already satisfied: argon2-cffi in /usr/local/lib/python3.9/site-packages (from minio>=7.0.0->pymilvus) (23.1.0)\n",
      "Requirement already satisfied: typing-extensions in /usr/local/lib/python3.9/site-packages (from minio>=7.0.0->pymilvus) (4.8.0)\n",
      "Requirement already satisfied: pytz>=2020.1 in /usr/local/lib/python3.9/site-packages (from pandas>=1.2.4->pymilvus) (2023.3.post1)\n",
      "Requirement already satisfied: python-dateutil>=2.8.2 in /usr/local/lib/python3.9/site-packages (from pandas>=1.2.4->pymilvus) (2.8.2)\n",
      "Requirement already satisfied: tzdata>=2022.1 in /usr/local/lib/python3.9/site-packages (from pandas>=1.2.4->pymilvus) (2023.3)\n",
      "Requirement already satisfied: numpy<2,>=1.22.4 in /usr/local/lib64/python3.9/site-packages (from pandas>=1.2.4->pymilvus) (1.26.1)\n",
      "Requirement already satisfied: six>=1.5 in /usr/lib/python3.9/site-packages (from python-dateutil>=2.8.2->pandas>=1.2.4->pymilvus) (1.15.0)\n",
      "Requirement already satisfied: argon2-cffi-bindings in /usr/local/lib64/python3.9/site-packages (from argon2-cffi->minio>=7.0.0->pymilvus) (21.2.0)\n",
      "Requirement already satisfied: cffi>=1.0.1 in /usr/lib64/python3.9/site-packages (from argon2-cffi-bindings->argon2-cffi->minio>=7.0.0->pymilvus) (1.14.5)\n",
      "Requirement already satisfied: pycparser in /usr/lib/python3.9/site-packages (from cffi>=1.0.1->argon2-cffi-bindings->argon2-cffi->minio>=7.0.0->pymilvus) (2.20)\n",
      "Requirement already satisfied: ply==3.11 in /usr/lib/python3.9/site-packages (from pycparser->cffi>=1.0.1->argon2-cffi-bindings->argon2-cffi->minio>=7.0.0->pymilvus) (3.11)\n",
      "Requirement already satisfied: idna<4,>=2.5 in /usr/lib/python3.9/site-packages (from requests->pymilvus) (2.10)\n",
      "Requirement already satisfied: charset-normalizer<4,>=2 in /usr/local/lib64/python3.9/site-packages (from requests->pymilvus) (3.3.0)\n",
      "\u001b[33mWARNING: Running pip as the 'root' user can result in broken permissions and conflicting behaviour with the system package manager. It is recommended to use a virtual environment instead: https://pip.pypa.io/warnings/venv\u001b[0m\n",
      "Requirement already satisfied: sentence_transformers in /usr/local/lib/python3.9/site-packages (2.5.1)\n",
      "Requirement already satisfied: scipy in /usr/local/lib64/python3.9/site-packages (from sentence_transformers) (1.12.0)\n",
      "Requirement already satisfied: huggingface-hub>=0.15.1 in /usr/local/lib/python3.9/site-packages (from sentence_transformers) (0.21.4)\n",
      "Requirement already satisfied: Pillow in /usr/local/lib64/python3.9/site-packages (from sentence_transformers) (10.1.0)\n",
      "Requirement already satisfied: scikit-learn in /usr/local/lib64/python3.9/site-packages (from sentence_transformers) (1.4.1.post1)\n",
      "Requirement already satisfied: torch>=1.11.0 in /usr/local/lib64/python3.9/site-packages (from sentence_transformers) (2.2.1)\n",
      "Requirement already satisfied: numpy in /usr/local/lib64/python3.9/site-packages (from sentence_transformers) (1.26.1)\n",
      "Requirement already satisfied: tqdm in /usr/local/lib/python3.9/site-packages (from sentence_transformers) (4.66.2)\n",
      "Requirement already satisfied: transformers<5.0.0,>=4.32.0 in /usr/local/lib/python3.9/site-packages (from sentence_transformers) (4.38.2)\n",
      "Requirement already satisfied: fsspec>=2023.5.0 in /usr/local/lib/python3.9/site-packages (from huggingface-hub>=0.15.1->sentence_transformers) (2024.2.0)\n",
      "Requirement already satisfied: typing-extensions>=3.7.4.3 in /usr/local/lib/python3.9/site-packages (from huggingface-hub>=0.15.1->sentence_transformers) (4.8.0)\n",
      "Requirement already satisfied: pyyaml>=5.1 in /usr/lib64/python3.9/site-packages (from huggingface-hub>=0.15.1->sentence_transformers) (5.4.1)\n",
      "Requirement already satisfied: requests in /usr/local/lib/python3.9/site-packages (from huggingface-hub>=0.15.1->sentence_transformers) (2.31.0)\n",
      "Requirement already satisfied: filelock in /usr/local/lib/python3.9/site-packages (from huggingface-hub>=0.15.1->sentence_transformers) (3.13.1)\n",
      "Requirement already satisfied: packaging>=20.9 in /usr/local/lib/python3.9/site-packages (from huggingface-hub>=0.15.1->sentence_transformers) (23.2)\n",
      "Requirement already satisfied: sympy in /usr/local/lib/python3.9/site-packages (from torch>=1.11.0->sentence_transformers) (1.12)\n",
      "Requirement already satisfied: jinja2 in /usr/local/lib/python3.9/site-packages (from torch>=1.11.0->sentence_transformers) (3.1.2)\n",
      "Requirement already satisfied: nvidia-curand-cu12==10.3.2.106 in /usr/local/lib/python3.9/site-packages (from torch>=1.11.0->sentence_transformers) (10.3.2.106)\n",
      "Requirement already satisfied: nvidia-cusparse-cu12==12.1.0.106 in /usr/local/lib/python3.9/site-packages (from torch>=1.11.0->sentence_transformers) (12.1.0.106)\n",
      "Requirement already satisfied: networkx in /usr/local/lib/python3.9/site-packages (from torch>=1.11.0->sentence_transformers) (3.2.1)\n",
      "Requirement already satisfied: nvidia-cufft-cu12==11.0.2.54 in /usr/local/lib/python3.9/site-packages (from torch>=1.11.0->sentence_transformers) (11.0.2.54)\n",
      "Requirement already satisfied: nvidia-cudnn-cu12==8.9.2.26 in /usr/local/lib/python3.9/site-packages (from torch>=1.11.0->sentence_transformers) (8.9.2.26)\n",
      "Requirement already satisfied: nvidia-nccl-cu12==2.19.3 in /usr/local/lib/python3.9/site-packages (from torch>=1.11.0->sentence_transformers) (2.19.3)\n",
      "Requirement already satisfied: nvidia-cuda-nvrtc-cu12==12.1.105 in /usr/local/lib/python3.9/site-packages (from torch>=1.11.0->sentence_transformers) (12.1.105)\n",
      "Requirement already satisfied: nvidia-cuda-cupti-cu12==12.1.105 in /usr/local/lib/python3.9/site-packages (from torch>=1.11.0->sentence_transformers) (12.1.105)\n",
      "Requirement already satisfied: nvidia-cublas-cu12==12.1.3.1 in /usr/local/lib/python3.9/site-packages (from torch>=1.11.0->sentence_transformers) (12.1.3.1)\n",
      "Requirement already satisfied: nvidia-cuda-runtime-cu12==12.1.105 in /usr/local/lib/python3.9/site-packages (from torch>=1.11.0->sentence_transformers) (12.1.105)\n",
      "Requirement already satisfied: nvidia-cusolver-cu12==11.4.5.107 in /usr/local/lib/python3.9/site-packages (from torch>=1.11.0->sentence_transformers) (11.4.5.107)\n",
      "Requirement already satisfied: nvidia-nvtx-cu12==12.1.105 in /usr/local/lib/python3.9/site-packages (from torch>=1.11.0->sentence_transformers) (12.1.105)\n",
      "Requirement already satisfied: triton==2.2.0 in /usr/local/lib64/python3.9/site-packages (from torch>=1.11.0->sentence_transformers) (2.2.0)\n",
      "Requirement already satisfied: nvidia-nvjitlink-cu12 in /usr/local/lib/python3.9/site-packages (from nvidia-cusolver-cu12==11.4.5.107->torch>=1.11.0->sentence_transformers) (12.4.99)\n",
      "Requirement already satisfied: regex!=2019.12.17 in /usr/local/lib64/python3.9/site-packages (from transformers<5.0.0,>=4.32.0->sentence_transformers) (2023.12.25)\n",
      "Requirement already satisfied: safetensors>=0.4.1 in /usr/local/lib64/python3.9/site-packages (from transformers<5.0.0,>=4.32.0->sentence_transformers) (0.4.2)\n",
      "Requirement already satisfied: tokenizers<0.19,>=0.14 in /usr/local/lib64/python3.9/site-packages (from transformers<5.0.0,>=4.32.0->sentence_transformers) (0.15.2)\n",
      "Requirement already satisfied: MarkupSafe>=2.0 in /usr/local/lib64/python3.9/site-packages (from jinja2->torch>=1.11.0->sentence_transformers) (2.1.3)\n",
      "Requirement already satisfied: charset-normalizer<4,>=2 in /usr/local/lib64/python3.9/site-packages (from requests->huggingface-hub>=0.15.1->sentence_transformers) (3.3.0)\n",
      "Requirement already satisfied: certifi>=2017.4.17 in /usr/local/lib/python3.9/site-packages (from requests->huggingface-hub>=0.15.1->sentence_transformers) (2023.7.22)\n",
      "Requirement already satisfied: urllib3<3,>=1.21.1 in /usr/lib/python3.9/site-packages (from requests->huggingface-hub>=0.15.1->sentence_transformers) (1.26.5)\n",
      "Requirement already satisfied: idna<4,>=2.5 in /usr/lib/python3.9/site-packages (from requests->huggingface-hub>=0.15.1->sentence_transformers) (2.10)\n",
      "Requirement already satisfied: threadpoolctl>=2.0.0 in /usr/local/lib/python3.9/site-packages (from scikit-learn->sentence_transformers) (3.3.0)\n",
      "Requirement already satisfied: joblib>=1.2.0 in /usr/local/lib/python3.9/site-packages (from scikit-learn->sentence_transformers) (1.3.2)\n",
      "Requirement already satisfied: mpmath>=0.19 in /usr/local/lib/python3.9/site-packages (from sympy->torch>=1.11.0->sentence_transformers) (1.3.0)\n",
      "\u001b[33mWARNING: Running pip as the 'root' user can result in broken permissions and conflicting behaviour with the system package manager. It is recommended to use a virtual environment instead: https://pip.pypa.io/warnings/venv\u001b[0m\n",
      "Requirement already satisfied: grpcio==1.60.0 in /usr/local/lib64/python3.9/site-packages (1.60.0)\n",
      "\u001b[33mWARNING: Running pip as the 'root' user can result in broken permissions and conflicting behaviour with the system package manager. It is recommended to use a virtual environment instead: https://pip.pypa.io/warnings/venv\u001b[0m\n"
     ]
    }
   ],
   "source": [
    "# Install libraries\n",
    "!pip install python-dotenv\n",
    "!pip install wikipedia\n",
    "!pip install pymilvus\n",
    "!pip install sentence_transformers\n",
    "!pip install grpcio==1.60.0 "
   ]
  },
  {
   "cell_type": "code",
   "execution_count": 2,
   "id": "767e1e53-44ce-4057-93a7-f536ad8bea13",
   "metadata": {},
   "outputs": [],
   "source": [
    "# Import libraries\n",
    "import wikipedia\n",
    "import pandas as pd\n",
    "import warnings\n",
    "\n",
    "warnings.filterwarnings('ignore')"
   ]
  },
  {
   "cell_type": "markdown",
   "id": "a4fb504b-97a1-4416-80c8-2ce2ef538cd2",
   "metadata": {},
   "source": [
    "## 1. Fetch web articles (Wikipedia articles) and populate into dataframe\n",
    "\n",
    "This notebook walks through the process of loading a wikipedia article into a watsonx.data relational database table. We use the [Wikipedia python library](https://pypi.org/project/wikipedia/) to retrieve wikipedia articles. We then create a table in the database to store the articles. Finally, we load the articles into the database. \n",
    "\n",
    "For details on the copyright issues when extracting data, please refer to the [Wikipedia Copyrights](https://en.wikipedia.org/wiki/Wikipedia:Copyrights) page.\n",
    "\n",
    "The following code will search Wikipedia articles and display a list of the articles by title. The initial search will return a list of up to 10 titles, while the subsequent call will retrieve the summary of the article. The two results are combined into one dataframe for easy scrolling.\n",
    "\n",
    "Update the next field to include what you are searching for."
   ]
  },
  {
   "cell_type": "code",
   "execution_count": 3,
   "id": "b2cdc0fd-a213-485a-bf7f-8e7f5660bc24",
   "metadata": {},
   "outputs": [],
   "source": [
    "topic = \"climate\""
   ]
  },
  {
   "cell_type": "markdown",
   "id": "03a03287-ba9a-4961-a8e9-2c906c565fb0",
   "metadata": {},
   "source": [
    "### Retrieve 10 Articles\n",
    "The next call will retrieve a maximum of 10 titles and display the list."
   ]
  },
  {
   "cell_type": "code",
   "execution_count": 4,
   "id": "2dc02a33-de56-4b10-85cb-5f76971a202e",
   "metadata": {},
   "outputs": [
    {
     "name": "stdout",
     "output_type": "stream",
     "text": [
      "Article Title\n",
      "-------------------------------------------------\n",
      "Climate\n",
      "Climate change\n",
      "Köppen climate classification\n",
      "Mediterranean climate\n",
      "Oceanic climate\n",
      "Climate action\n",
      "Subarctic climate\n",
      "Climatize\n",
      "Temperate climate\n",
      "Climate classification\n"
     ]
    }
   ],
   "source": [
    "search_results = wikipedia.search(topic)\n",
    "print(\"Article Title\")\n",
    "print(\"-------------------------------------------------\")\n",
    "for result in search_results: print(result)"
   ]
  },
  {
   "cell_type": "markdown",
   "id": "895f90df-2bea-4831-b5db-aa8d6eb43fef",
   "metadata": {},
   "source": [
    "### Retrieve Article Summary\n",
    "Now that we have a list of articles, we can request a summary of each article and display them. Note that if an article is ambiguous, the program will not attempt to retrieve the article. An ambiguous article is an article which could refer to multiple topics. The summary output from an ambiguous article will display possible searches that you may want to try. Since we are only interested in direct articles, the ambiguous titles will be ignored."
   ]
  },
  {
   "cell_type": "code",
   "execution_count": 5,
   "id": "b99582e9",
   "metadata": {
    "scrolled": true
   },
   "outputs": [
    {
     "name": "stdout",
     "output_type": "stream",
     "text": [
      "Skipped article 'Oceanic climate' skipped because of ambiguity.\n",
      "Skipped article 'Climatize' skipped because of ambiguity.\n",
      "Skipped article 'Temperate climate' skipped because of ambiguity.\n"
     ]
    },
    {
     "data": {
      "text/html": [
       "<style type=\"text/css\">\n",
       "#T_915f9_row0_col0, #T_915f9_row0_col1, #T_915f9_row1_col0, #T_915f9_row1_col1, #T_915f9_row2_col0, #T_915f9_row2_col1, #T_915f9_row3_col0, #T_915f9_row3_col1, #T_915f9_row4_col0, #T_915f9_row4_col1, #T_915f9_row5_col0, #T_915f9_row5_col1, #T_915f9_row6_col0, #T_915f9_row6_col1 {\n",
       "  text-align: left;\n",
       "}\n",
       "</style>\n",
       "<table id=\"T_915f9\">\n",
       "  <thead>\n",
       "    <tr>\n",
       "      <th class=\"blank level0\" >&nbsp;</th>\n",
       "      <th id=\"T_915f9_level0_col0\" class=\"col_heading level0 col0\" >title</th>\n",
       "      <th id=\"T_915f9_level0_col1\" class=\"col_heading level0 col1\" >summary</th>\n",
       "    </tr>\n",
       "  </thead>\n",
       "  <tbody>\n",
       "    <tr>\n",
       "      <th id=\"T_915f9_level0_row0\" class=\"row_heading level0 row0\" >0</th>\n",
       "      <td id=\"T_915f9_row0_col0\" class=\"data row0 col0\" >Climate</td>\n",
       "      <td id=\"T_915f9_row0_col1\" class=\"data row0 col1\" >Climate is the long-term weather pattern in a region, typically averaged over 30 years. More rigorously, it is the mean and variability of meteorological variables over a time spanning from months to millions of years. Some of the meteorological variables that are commonly measured are temperature, humidity, atmospheric pressure, wind, and precipitation. In a broader sense, climate is the state of the components of the climate system, including the atmosphere, hydrosphere, cryosphere, lithosphere and biosphere and the interactions between them. The climate of a location is affected by its latitude, longitude, terrain, altitude, land use and nearby water bodies and their currents.\n",
       "Climates can be classified according to the average and typical variables, most commonly temperature and precipitation. The most widely used classification scheme is the Köppen climate classification. The Thornthwaite system, in use since 1948, incorporates evapotranspiration along with temperature and precipitation information and is used in studying biological diversity and how climate change affects it. The major classifications in Thornthwaite's climate classification are microthermal, mesothermal, and megathermal. Finally, the Bergeron and Spatial Synoptic Classification systems focus on the origin of air masses that define the climate of a region.\n",
       "Paleoclimatology is the study of ancient climates. Paleoclimatologists seek to explain climate variations for all parts of the Earth during any given geologic period, beginning with the time of the Earth's formation. Since very few direct observations of climate were available before the 19th century, paleoclimates are inferred from proxy variables. They include non-biotic evidence—such as sediments found in lake beds and ice cores—and biotic evidence—such as tree rings and coral. Climate models are mathematical models of past, present, and future climates. Climate change may occur over long and short timescales due to various factors. Recent warming is discussed in terms of global warming, which results in redistributions of biota. For example, as climate scientist Lesley Ann Hughes has written: \"a 3 °C [5 °F] change in mean annual temperature corresponds to a shift in isotherms of approximately 300–400 km [190–250 mi] in latitude (in the temperate zone) or 500 m [1,600 ft] in elevation. Therefore, species are expected to move upwards in elevation or towards the poles in latitude in response to shifting climate zones.\"</td>\n",
       "    </tr>\n",
       "    <tr>\n",
       "      <th id=\"T_915f9_level0_row1\" class=\"row_heading level0 row1\" >1</th>\n",
       "      <td id=\"T_915f9_row1_col0\" class=\"data row1 col0\" >Climate change</td>\n",
       "      <td id=\"T_915f9_row1_col1\" class=\"data row1 col1\" >In common usage, climate change describes global warming—the ongoing increase in global average temperature—and its effects on Earth's climate system. Climate change in a broader sense also includes previous long-term changes to Earth's climate. The current rise in global average temperature is primarily caused by humans burning fossil fuels since the Industrial Revolution. Fossil fuel use, deforestation, and some agricultural and industrial practices add to greenhouse gases. These gases absorb some of the heat that the Earth radiates after it warms from sunlight, warming the lower atmosphere. Carbon dioxide, the primary greenhouse gas driving global warming, has grown by about 50% and is at levels unseen for millions of years.\n",
       "Climate change has an increasingly large impact on the environment. Deserts are expanding, while heat waves and wildfires are becoming more common. Amplified warming in the Arctic has contributed to thawing permafrost, retreat of glaciers and sea ice decline. Higher temperatures are also causing more intense storms, droughts, and other weather extremes. Rapid environmental change in mountains, coral reefs, and the Arctic is forcing many species to relocate or become extinct. Even if efforts to minimize future warming are successful, some effects will continue for centuries. These include ocean heating, ocean acidification and sea level rise.\n",
       "Climate change threatens people with increased flooding, extreme heat, increased food and water scarcity, more disease, and economic loss. Human migration and conflict can also be a result. The World Health Organization calls climate change one of the biggest threats to global health in the 21st century. Societies and ecosystems will experience more severe risks without action to limit warming. Adapting to climate change through efforts like flood control measures or drought-resistant crops partially reduces climate change risks, although some limits to adaptation have already been reached. Poorer communities are responsible for a small share of global emissions, yet have the least ability to adapt and are most vulnerable to climate change.\n",
       "\n",
       "Many climate change impacts have been felt in recent years, with 2023 the warmest on record at +1.48 °C (2.66 °F) since regular tracking began in 1850. Additional warming will increase these impacts and can trigger tipping points, such as melting all of the Greenland ice sheet. Under the 2015 Paris Agreement, nations collectively agreed to keep warming \"well under 2 °C\". However, with pledges made under the Agreement, global warming would still reach about 2.7 °C (4.9 °F) by the end of the century. Limiting warming to 1.5 °C would require halving emissions by 2030 and achieving net-zero emissions by 2050.\n",
       "Fossil fuel use can be phased out by conserving energy and switching to energy sources that do not produce significant carbon pollution. These energy sources include wind, solar, hydro, and nuclear power. Cleanly generated electricity can replace fossil fuels for powering transportation, heating buildings, and running industrial processes. Carbon can also be removed from the atmosphere, for instance by increasing forest cover and farming with methods that capture carbon in soil.</td>\n",
       "    </tr>\n",
       "    <tr>\n",
       "      <th id=\"T_915f9_level0_row2\" class=\"row_heading level0 row2\" >2</th>\n",
       "      <td id=\"T_915f9_row2_col0\" class=\"data row2 col0\" >Köppen climate classification</td>\n",
       "      <td id=\"T_915f9_row2_col1\" class=\"data row2 col1\" >The  Köppen climate classification is one of the most widely used climate classification systems. It was first published by German-Russian climatologist Wladimir Köppen (1846–1940) in 1884, with several later modifications by Köppen, notably in 1918 and 1936. Later, German climatologist Rudolf Geiger (1894–1981) introduced some changes to the classification system in 1954 and 1961, which is thus sometimes called the Köppen–Geiger climate classification.\n",
       "The Köppen climate classification divides climates into five main climate groups, with each group being divided based on patterns of seasonal precipitation and temperature. The five main groups are A (tropical), B (arid), C (temperate), D (continental), and E (polar). Each group and subgroup is represented by a letter. All climates are assigned a main group (the first letter). All climates except for those in the E group are assigned a seasonal precipitation subgroup (the second letter). For example, Af indicates a tropical rainforest climate. The system assigns a temperature subgroup for all groups other than those in the A group, indicated by the third letter for climates in B, C, D, and the second letter for climates in E. For example, Cfb indicates an oceanic climate with warm summers as indicated by the ending b. Climates are classified based on specific criteria unique to each climate type.\n",
       "As Köppen designed the system based on his experience as a botanist, his main climate groups are based on the types of vegetation occurring in a given climate classification region. In addition to identifying climates, the system can be used to analyze ecosystem conditions and identify the main types of vegetation within climates. Due to its association with the plant life of a given region, the system is useful in predicting future changes of plant life within that region.\n",
       "The Köppen climate classification system was modified further within the Trewartha climate classification system in 1966 (revised in 1980). The Trewartha system sought to create a more refined middle latitude climate zone, which was one of the criticisms of the Köppen system (the climate group C was too general).: 200–1 \n",
       "\n",
       "</td>\n",
       "    </tr>\n",
       "    <tr>\n",
       "      <th id=\"T_915f9_level0_row3\" class=\"row_heading level0 row3\" >3</th>\n",
       "      <td id=\"T_915f9_row3_col0\" class=\"data row3 col0\" >Mediterranean climate</td>\n",
       "      <td id=\"T_915f9_row3_col1\" class=\"data row3 col1\" >A Mediterranean climate ( MED-ih-tə-RAY-nee-ən), also called a dry summer climate, described by Köppen as Cs, is a temperate climate type that occurs in the lower mid-latitudes (normally 30 to 44 north and south latitude). Such climates typically have dry summers and wet winters, with summer conditions being hot and winter conditions typically being mild. These weather conditions are typically experienced in the majority of Mediterranean-climate regions and countries, but remain highly dependent on proximity to the ocean, altitude and geographical location.\n",
       "The dry summer climate is found throughout the warmer middle latitudes, affecting almost exclusively the western portions of continents in relative proximity to the coast. The climate type's name is in reference to the coastal regions of the Mediterranean Sea, which mostly share this type of climate, but it can also be found in the Atlantic portions of Iberia and Northwest Africa, the Pacific portions of the United States and Chile, extreme west areas of Argentina, around Cape Town in South Africa, parts of Southwest and South Australia, and parts of Central Asia. They tend to be found in proximity (both poleward and near the coast) of desert and semi-arid climates, and equatorward of oceanic climates.\n",
       "Mediterranean climate zones are typically located along the western coasts of landmasses, between roughly 30 and 45 degrees north or south of the equator. The main cause of Mediterranean, or dry summer, climate is the subtropical ridge, which extends towards the pole of the hemisphere in question during the summer and migrates towards the equator during the winter. This is due to the seasonal poleward-equatorward variations of temperatures.\n",
       "The resulting vegetation of Mediterranean climates are the garrigue or maquis in the European Mediterranean Basin, the chaparral in California, the fynbos in South Africa, the mallee in Australia, and the matorral in Chile. Areas with this climate are also where the so-called \"Mediterranean trinity\" of major agricultural crops have traditionally been successfully grown (wheat, grapes and olives). As a result, these regions are notable for their high-quality wines, grapeseed/olive oils, and bread products.\n",
       "\n",
       "</td>\n",
       "    </tr>\n",
       "    <tr>\n",
       "      <th id=\"T_915f9_level0_row4\" class=\"row_heading level0 row4\" >4</th>\n",
       "      <td id=\"T_915f9_row4_col0\" class=\"data row4 col0\" >Climate action</td>\n",
       "      <td id=\"T_915f9_row4_col1\" class=\"data row4 col1\" >Climate action (or climate change action) refers to a range of activities, mechanisms, policy instruments, and so forth that aim at reducing the severity of human-induced climate change and its impacts. \"More climate action\" is a central demand of the climate movement. Climate inaction is the absence of climate action. \n",
       "\n",
       "</td>\n",
       "    </tr>\n",
       "    <tr>\n",
       "      <th id=\"T_915f9_level0_row5\" class=\"row_heading level0 row5\" >5</th>\n",
       "      <td id=\"T_915f9_row5_col0\" class=\"data row5 col0\" >Climate classification</td>\n",
       "      <td id=\"T_915f9_row5_col1\" class=\"data row5 col1\" >The  Köppen climate classification is one of the most widely used climate classification systems. It was first published by German-Russian climatologist Wladimir Köppen (1846–1940) in 1884, with several later modifications by Köppen, notably in 1918 and 1936. Later, German climatologist Rudolf Geiger (1894–1981) introduced some changes to the classification system in 1954 and 1961, which is thus sometimes called the Köppen–Geiger climate classification.\n",
       "The Köppen climate classification divides climates into five main climate groups, with each group being divided based on patterns of seasonal precipitation and temperature. The five main groups are A (tropical), B (arid), C (temperate), D (continental), and E (polar). Each group and subgroup is represented by a letter. All climates are assigned a main group (the first letter). All climates except for those in the E group are assigned a seasonal precipitation subgroup (the second letter). For example, Af indicates a tropical rainforest climate. The system assigns a temperature subgroup for all groups other than those in the A group, indicated by the third letter for climates in B, C, D, and the second letter for climates in E. For example, Cfb indicates an oceanic climate with warm summers as indicated by the ending b. Climates are classified based on specific criteria unique to each climate type.\n",
       "As Köppen designed the system based on his experience as a botanist, his main climate groups are based on the types of vegetation occurring in a given climate classification region. In addition to identifying climates, the system can be used to analyze ecosystem conditions and identify the main types of vegetation within climates. Due to its association with the plant life of a given region, the system is useful in predicting future changes of plant life within that region.\n",
       "The Köppen climate classification system was modified further within the Trewartha climate classification system in 1966 (revised in 1980). The Trewartha system sought to create a more refined middle latitude climate zone, which was one of the criticisms of the Köppen system (the climate group C was too general).: 200–1 \n",
       "\n",
       "</td>\n",
       "    </tr>\n",
       "    <tr>\n",
       "      <th id=\"T_915f9_level0_row6\" class=\"row_heading level0 row6\" >6</th>\n",
       "      <td id=\"T_915f9_row6_col0\" class=\"data row6 col0\" >Desert climate</td>\n",
       "      <td id=\"T_915f9_row6_col1\" class=\"data row6 col1\" >The desert climate or arid climate (in the Köppen climate classification BWh and BWk) is a dry climate sub-type in which there is a severe excess of evaporation over precipitation. The typically bald, rocky, or sandy surfaces in desert climates are dry and hold little moisture, quickly evaporating the already little rainfall they receive. Covering 14.2% of Earth's land area, hot deserts are the second most common type of climate on Earth after the polar climate.\n",
       "There are two variations of a desert climate according to the Köppen climate classification: a hot desert climate (BWh), and a cold desert climate (BWk). To delineate \"hot desert climates\" from \"cold desert climates\", a mean annual temperature of 18 °C (64.4 °F) is used as an isotherm so that a location with a BW type climate with the appropriate temperature above this isotherm is classified as \"hot arid subtype\" (BWh), and a location with the appropriate temperature below the isotherm is classified as \"cold arid subtype\" (BWk).\n",
       "Most desert/arid climates receive between 25 and 200 mm (1 and 8 in) of rainfall annually, although some of the most consistently hot areas of Central Australia, the Sahel and Guajira Peninsula can be, due to extreme potential evapotranspiration, classed as arid with the annual rainfall as high as 430 millimetres or 17 inches.</td>\n",
       "    </tr>\n",
       "  </tbody>\n",
       "</table>\n"
      ],
      "text/plain": [
       "<pandas.io.formats.style.Styler at 0x7fade01a42b0>"
      ]
     },
     "execution_count": 5,
     "metadata": {},
     "output_type": "execute_result"
    }
   ],
   "source": [
    "# search\n",
    "search_results = wikipedia.search(\"Climate\")\n",
    "\n",
    "display_articles = []\n",
    "for i in range (0,len(search_results)):\n",
    "    try:\n",
    "        summary = wikipedia.summary(search_results[i])\n",
    "    except Exception as err:\n",
    "        print(f\"Skipped article '{search_results[i]}' skipped because of ambiguity.\")\n",
    "        continue\n",
    "        \n",
    "    display_articles.append({\n",
    "        \"title\"   : search_results[i],\n",
    "        \"summary\" : summary\n",
    "    })\n",
    "\n",
    "#print(display_articles)\n",
    "\n",
    "df = pd.DataFrame.from_dict(display_articles)\n",
    "df.style.set_properties(**{'text-align': 'left'})"
   ]
  },
  {
   "cell_type": "markdown",
   "id": "96792953",
   "metadata": {},
   "source": [
    "This step will load selected articles into watsonx.data. Since we are only interested in climate change, we will select the first two articles in the list. You can change the documents loaded by changing the document indexes in the variable found in the next cell."
   ]
  },
  {
   "cell_type": "code",
   "execution_count": 6,
   "id": "b436a408-9066-42d1-8c2d-8748bd79ec22",
   "metadata": {},
   "outputs": [],
   "source": [
    "documents = [0,1]"
   ]
  },
  {
   "cell_type": "code",
   "execution_count": 7,
   "id": "45505e75-ce12-49af-8998-2e6a649b5b8f",
   "metadata": {},
   "outputs": [
    {
     "name": "stdout",
     "output_type": "stream",
     "text": [
      "Successfully fetched article Climate\n",
      "Successfully fetched article Climate change\n",
      "Successfully fetched 2 articles \n"
     ]
    }
   ],
   "source": [
    "# fetch wikipedia articles\n",
    "articles = {}\n",
    "for document in documents:\n",
    "    articles.update({display_articles[document][\"title\"] : None})\n",
    "\n",
    "for k,v in articles.items():\n",
    "    article = wikipedia.page(k)\n",
    "    articles[k] = article.content\n",
    "    print(f\"Successfully fetched article {k}\")\n",
    "\n",
    "print(f\"Successfully fetched {len(articles)} articles \")"
   ]
  },
  {
   "cell_type": "markdown",
   "id": "85b70849-6f29-41dd-ad9d-2ea7acffd9bd",
   "metadata": {},
   "source": [
    "## 2. Connect to watsonx.data\n",
    "The following code will use the Presto Magic commmands to load data in watsonx.data."
   ]
  },
  {
   "cell_type": "code",
   "execution_count": 8,
   "id": "b48f6cde-bd30-4987-b5f8-2c6ebda05c7e",
   "metadata": {},
   "outputs": [
    {
     "name": "stdout",
     "output_type": "stream",
     "text": [
      "Presto Extensions Loaded.\n"
     ]
    }
   ],
   "source": [
    "%run presto.ipynb"
   ]
  },
  {
   "cell_type": "markdown",
   "id": "861981f3-f699-4009-9c7a-ec645899e776",
   "metadata": {},
   "source": [
    "The connection details should not change unless you are attempting to run this script from a Jupyter environment that is outside of the developer system."
   ]
  },
  {
   "cell_type": "code",
   "execution_count": 9,
   "id": "bae4fd7b",
   "metadata": {},
   "outputs": [
    {
     "name": "stdout",
     "output_type": "stream",
     "text": [
      "Connection successful.\n"
     ]
    }
   ],
   "source": [
    "%%sql\n",
    "   connect\n",
    "   userid=ibmlhadmin\n",
    "   password=password\n",
    "   hostname=watsonxdata\n",
    "   port=8443\n",
    "   catalog=tpch\n",
    "   schema=tiny\n",
    "   certfile=/certs/lh-ssl-ts.crt"
   ]
  },
  {
   "cell_type": "markdown",
   "id": "e723dc88-a7a3-4931-aa16-eb33e679a1be",
   "metadata": {},
   "source": [
    "## 3. Create Schema and Table in Hive Catalog"
   ]
  },
  {
   "cell_type": "code",
   "execution_count": 10,
   "id": "cb54ddf5-e999-4912-a1c2-652a6951ac7e",
   "metadata": {},
   "outputs": [
    {
     "name": "stdout",
     "output_type": "stream",
     "text": [
      "Command completed.\n",
      "Command completed.\n"
     ]
    }
   ],
   "source": [
    "%%sql\n",
    "DROP TABLE IF EXISTS hive_data.rag_web.web_wikipedia;\n",
    "DROP SCHEMA IF EXISTS hive_data.rag_web;"
   ]
  },
  {
   "cell_type": "code",
   "execution_count": 11,
   "id": "2b5107e0-d43a-4e93-a0c1-7c27c68ff6b9",
   "metadata": {},
   "outputs": [
    {
     "data": {
      "text/plain": [
       "[]"
      ]
     },
     "execution_count": 11,
     "metadata": {},
     "output_type": "execute_result"
    }
   ],
   "source": [
    "# The next step will delete any existing data in the rag_web bucket. \n",
    "# A DROP table command does not remove the files in the bucket. \n",
    "# You may see error messages displayed if no data or bucket exists.\n",
    "\n",
    "minio_host    = \"watsonxdata\"\n",
    "minio_port    = \"9000\"\n",
    "hive_host     = \"watsonxdata\"\n",
    "hive_port     = \"9083\"\n",
    "\n",
    "hive_id           = None\n",
    "hive_password     = None\n",
    "minio_access_key  = None\n",
    "minio_secret_key  = None\n",
    "keystore_password = None\n",
    "\n",
    "try:\n",
    "    with open('/certs/passwords') as fd:\n",
    "        certs = fd.readlines()\n",
    "    for line in certs:\n",
    "        args = line.split()\n",
    "        if (len(args) >= 3):\n",
    "            system   = args[0].strip()\n",
    "            user     = args[1].strip()\n",
    "            password = args[2].strip()\n",
    "            if (system == \"Minio\"):\n",
    "                minio_access_key = user\n",
    "                minio_secret_key = password\n",
    "            elif (system == \"Thrift\"):\n",
    "                hive_id = user\n",
    "                hive_password = password\n",
    "            elif (system == \"Keystore\"):\n",
    "                keystore_password = password\n",
    "            else:\n",
    "                pass\n",
    "except Error as e:\n",
    "    print(\"Certificate file with passwords could not be found\")\n",
    "\n",
    "%system mc alias set watsonxdata http://{minio_host}:{minio_port} {minio_access_key} {minio_secret_key}\n",
    "\n",
    "%system mc rm --recursive --force watsonxdata/hive-bucket/rag_web"
   ]
  },
  {
   "cell_type": "markdown",
   "id": "5deb69f3-e0bb-4697-a017-026ffb30e6b0",
   "metadata": {},
   "source": [
    "#### Create Schema (rag_web)"
   ]
  },
  {
   "cell_type": "code",
   "execution_count": 12,
   "id": "f4eec943-b859-4c26-90fc-543be1fe1b47",
   "metadata": {},
   "outputs": [
    {
     "name": "stdout",
     "output_type": "stream",
     "text": [
      "Command completed.\n"
     ]
    }
   ],
   "source": [
    "%%sql\n",
    "CREATE SCHEMA IF NOT EXISTS \n",
    "  hive_data.rag_web\n",
    "WITH (location = 's3a://hive-bucket/rag_docs')"
   ]
  },
  {
   "cell_type": "markdown",
   "id": "9bf1567f-6c6e-4845-8f51-dba6225c2986",
   "metadata": {},
   "source": [
    "#### Create Table (web_wikipedia)"
   ]
  },
  {
   "cell_type": "code",
   "execution_count": 16,
   "id": "cf175c18-9add-4146-8832-d4a1993c6496",
   "metadata": {},
   "outputs": [
    {
     "name": "stdout",
     "output_type": "stream",
     "text": [
      "SQL Error: line 1:1: Table 'hive_data.rag_web.web_wikipedia' already exists\n"
     ]
    }
   ],
   "source": [
    "%%sql\n",
    "CREATE TABLE hive_data.rag_web.web_wikipedia\n",
    "  (\n",
    "    \"id\" varchar,\n",
    "    \"text\" varchar,\n",
    "    \"title\" varchar  \n",
    "  )\n",
    "WITH \n",
    "  (\n",
    "  format = 'PARQUET',\n",
    "  external_location = 's3a://hive-bucket/rag_web' \n",
    "  )"
   ]
  },
  {
   "cell_type": "markdown",
   "id": "9e3c109b-5f1b-4f80-9525-0f4daa4755e8",
   "metadata": {},
   "source": [
    "## 4. Chunk the web documents and load into the Table\n",
    "The Wikipedia article is written into the watsonx.data database in chucks of approximately 225 words in size. The reason for chunking the data is to make it more efficient when populating the Milvus system from watsonx.data."
   ]
  },
  {
   "cell_type": "code",
   "execution_count": 17,
   "id": "d5a1c68d",
   "metadata": {},
   "outputs": [
    {
     "name": "stdout",
     "output_type": "stream",
     "text": [
      "Climate 11/11 inserted\n",
      "Climate Insertion complete\n",
      "Climate change 42/42 inserted\n",
      "Climate change Insertion complete\n"
     ]
    }
   ],
   "source": [
    "# Chunk data\n",
    "def split_into_chunks(text, chunk_size):\n",
    "    words = text.split()\n",
    "    return [' '.join(words[i:i + chunk_size]) for i in range(0, len(words), chunk_size)]\n",
    "\n",
    "split_articles = {}\n",
    "for k,v in articles.items():\n",
    "    split_articles[k] = split_into_chunks(v, 225)\n",
    "\n",
    "# Insert data\n",
    "for article_title, article_chunks in split_articles.items():\n",
    "    for i, chunk in enumerate(article_chunks):\n",
    "        escaped_chunk = chunk.replace(\"'\", \"''\").replace(\"%\", \"%%\")\n",
    "        insert_stmt = f\"insert into hive_data.rag_web.web_wikipedia values ('{i+1}', '{escaped_chunk}', '{article_title}')\"\n",
    "        %sql --quiet {insert_stmt}\n",
    "        print(f\"{article_title} {i+1}/{len(article_chunks)} inserted\",end=\"\\r\")\n",
    "            \n",
    "    print(f\"\\n{article_title} Insertion complete\")"
   ]
  },
  {
   "cell_type": "markdown",
   "id": "31a347b2-7206-4d1c-bd79-e2793a04ba8d",
   "metadata": {},
   "source": [
    "## 5. Check the loaded documents data in the Table"
   ]
  },
  {
   "cell_type": "code",
   "execution_count": 18,
   "id": "cf1cd529",
   "metadata": {},
   "outputs": [
    {
     "data": {
      "application/vnd.jupyter.widget-view+json": {
       "model_id": "929ff89cc20441da9ab7bfb87ed60489",
       "version_major": 2,
       "version_minor": 0
      },
      "text/plain": [
       "DataGrid(auto_fit_columns=True, auto_fit_params={'area': 'all', 'padding': 30, 'numCols': None}, corner_render…"
      ]
     },
     "metadata": {},
     "output_type": "display_data"
    }
   ],
   "source": [
    "%%sql\n",
    "   SELECT * FROM hive_data.rag_web.web_wikipedia"
   ]
  }
 ],
 "metadata": {
  "kernelspec": {
   "display_name": "Python 3 (ipykernel)",
   "language": "python",
   "name": "python3"
  },
  "language_info": {
   "codemirror_mode": {
    "name": "ipython",
    "version": 3
   },
   "file_extension": ".py",
   "mimetype": "text/x-python",
   "name": "python",
   "nbconvert_exporter": "python",
   "pygments_lexer": "ipython3",
   "version": "3.9.18"
  },
  "vscode": {
   "interpreter": {
    "hash": "aee8b7b246df8f9039afb4144a1f6fd8d2ca17a180786b69acc140d282b71a49"
   }
  }
 },
 "nbformat": 4,
 "nbformat_minor": 5
}
