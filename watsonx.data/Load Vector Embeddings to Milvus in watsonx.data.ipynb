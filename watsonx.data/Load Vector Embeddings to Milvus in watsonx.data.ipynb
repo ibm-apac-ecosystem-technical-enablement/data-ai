{
 "cells": [
  {
   "cell_type": "markdown",
   "id": "97254177-6aa1-44a4-986a-389d32cd5c84",
   "metadata": {},
   "source": [
    "# Load Vector Embeddings to Milvus in watsonx.data"
   ]
  },
  {
   "cell_type": "markdown",
   "id": "acbc29d5-76b4-4c9c-abdd-eaf8b4c00ebf",
   "metadata": {},
   "source": [
    "## Overview\n",
    "This Jupyter Notebook provides a step-by-step guide on how to prepare document data for RAG using Milvus (in watsonx.data as a vector database).\n",
    "\n",
    "In this notebook, we will convert text to vector embeddings and store the embeddings to Milvus (in watsonx.data as a vector database). Here are the steps:\n",
    "1. Connect to watsonx.data.\n",
    "2. Connect to Milvus.\n",
    "3. Create a Collection in Milvus.\n",
    "4. Insert Vectors into Milvus.\n",
    "5. Query Docs from Milvus through Semantic Search."
   ]
  },
  {
   "cell_type": "markdown",
   "id": "e2181680-a94f-42c2-a79a-68b10c29422f",
   "metadata": {},
   "source": [
    "#### Credits\n",
    "- ahmad.muzaffar@ibm.com (APAC Ecosystem Technical Enablement team)\n",
    "- This material has been adopted from material originally produced by Katherine Ciaravalli, Ken Bailey and George Baklarz."
   ]
  },
  {
   "cell_type": "markdown",
   "id": "88ae50a6",
   "metadata": {},
   "source": [
    "### Install required libraries"
   ]
  },
  {
   "cell_type": "code",
   "execution_count": 34,
   "id": "fcb1010b",
   "metadata": {
    "scrolled": true
   },
   "outputs": [
    {
     "name": "stdout",
     "output_type": "stream",
     "text": [
      "Requirement already satisfied: python-dotenv in /usr/local/lib/python3.9/site-packages (1.0.1)\n",
      "\u001b[33mWARNING: Running pip as the 'root' user can result in broken permissions and conflicting behaviour with the system package manager. It is recommended to use a virtual environment instead: https://pip.pypa.io/warnings/venv\u001b[0m\n",
      "Requirement already satisfied: wikipedia in /usr/local/lib/python3.9/site-packages (1.4.0)\n",
      "Requirement already satisfied: beautifulsoup4 in /usr/local/lib/python3.9/site-packages (from wikipedia) (4.12.2)\n",
      "Requirement already satisfied: requests<3.0.0,>=2.0.0 in /usr/local/lib/python3.9/site-packages (from wikipedia) (2.31.0)\n",
      "Requirement already satisfied: charset-normalizer<4,>=2 in /usr/local/lib64/python3.9/site-packages (from requests<3.0.0,>=2.0.0->wikipedia) (3.3.0)\n",
      "Requirement already satisfied: certifi>=2017.4.17 in /usr/local/lib/python3.9/site-packages (from requests<3.0.0,>=2.0.0->wikipedia) (2023.7.22)\n",
      "Requirement already satisfied: idna<4,>=2.5 in /usr/lib/python3.9/site-packages (from requests<3.0.0,>=2.0.0->wikipedia) (2.10)\n",
      "Requirement already satisfied: urllib3<3,>=1.21.1 in /usr/lib/python3.9/site-packages (from requests<3.0.0,>=2.0.0->wikipedia) (1.26.5)\n",
      "Requirement already satisfied: soupsieve>1.2 in /usr/local/lib/python3.9/site-packages (from beautifulsoup4->wikipedia) (2.5)\n",
      "\u001b[33mWARNING: Running pip as the 'root' user can result in broken permissions and conflicting behaviour with the system package manager. It is recommended to use a virtual environment instead: https://pip.pypa.io/warnings/venv\u001b[0m\n",
      "Requirement already satisfied: pymilvus in /usr/local/lib/python3.9/site-packages (2.3.6)\n",
      "Requirement already satisfied: protobuf>=3.20.0 in /usr/local/lib64/python3.9/site-packages (from pymilvus) (4.25.3)\n",
      "Requirement already satisfied: pandas>=1.2.4 in /usr/local/lib64/python3.9/site-packages (from pymilvus) (2.1.1)\n",
      "Requirement already satisfied: pyarrow>=12.0.0 in /usr/local/lib64/python3.9/site-packages (from pymilvus) (13.0.0)\n",
      "Requirement already satisfied: requests in /usr/local/lib/python3.9/site-packages (from pymilvus) (2.31.0)\n",
      "Requirement already satisfied: ujson>=2.0.0 in /usr/local/lib64/python3.9/site-packages (from pymilvus) (5.9.0)\n",
      "Requirement already satisfied: setuptools>=67 in /usr/local/lib/python3.9/site-packages (from pymilvus) (69.1.1)\n",
      "Requirement already satisfied: minio>=7.0.0 in /usr/local/lib/python3.9/site-packages (from pymilvus) (7.2.5)\n",
      "Requirement already satisfied: environs<=9.5.0 in /usr/local/lib/python3.9/site-packages (from pymilvus) (9.5.0)\n",
      "Requirement already satisfied: grpcio<=1.60.0,>=1.49.1 in /usr/local/lib64/python3.9/site-packages (from pymilvus) (1.60.0)\n",
      "Requirement already satisfied: marshmallow>=3.0.0 in /usr/local/lib/python3.9/site-packages (from environs<=9.5.0->pymilvus) (3.21.1)\n",
      "Requirement already satisfied: python-dotenv in /usr/local/lib/python3.9/site-packages (from environs<=9.5.0->pymilvus) (1.0.1)\n",
      "Requirement already satisfied: packaging>=17.0 in /usr/local/lib/python3.9/site-packages (from marshmallow>=3.0.0->environs<=9.5.0->pymilvus) (23.2)\n",
      "Requirement already satisfied: typing-extensions in /usr/local/lib/python3.9/site-packages (from minio>=7.0.0->pymilvus) (4.8.0)\n",
      "Requirement already satisfied: urllib3 in /usr/lib/python3.9/site-packages (from minio>=7.0.0->pymilvus) (1.26.5)\n",
      "Requirement already satisfied: argon2-cffi in /usr/local/lib/python3.9/site-packages (from minio>=7.0.0->pymilvus) (23.1.0)\n",
      "Requirement already satisfied: certifi in /usr/local/lib/python3.9/site-packages (from minio>=7.0.0->pymilvus) (2023.7.22)\n",
      "Requirement already satisfied: pycryptodome in /usr/local/lib64/python3.9/site-packages (from minio>=7.0.0->pymilvus) (3.20.0)\n",
      "Requirement already satisfied: python-dateutil>=2.8.2 in /usr/local/lib/python3.9/site-packages (from pandas>=1.2.4->pymilvus) (2.8.2)\n",
      "Requirement already satisfied: tzdata>=2022.1 in /usr/local/lib/python3.9/site-packages (from pandas>=1.2.4->pymilvus) (2023.3)\n",
      "Requirement already satisfied: pytz>=2020.1 in /usr/local/lib/python3.9/site-packages (from pandas>=1.2.4->pymilvus) (2023.3.post1)\n",
      "Requirement already satisfied: numpy>=1.22.4 in /usr/local/lib64/python3.9/site-packages (from pandas>=1.2.4->pymilvus) (1.26.1)\n",
      "Requirement already satisfied: six>=1.5 in /usr/lib/python3.9/site-packages (from python-dateutil>=2.8.2->pandas>=1.2.4->pymilvus) (1.15.0)\n",
      "Requirement already satisfied: argon2-cffi-bindings in /usr/local/lib64/python3.9/site-packages (from argon2-cffi->minio>=7.0.0->pymilvus) (21.2.0)\n",
      "Requirement already satisfied: cffi>=1.0.1 in /usr/lib64/python3.9/site-packages (from argon2-cffi-bindings->argon2-cffi->minio>=7.0.0->pymilvus) (1.14.5)\n",
      "Requirement already satisfied: pycparser in /usr/lib/python3.9/site-packages (from cffi>=1.0.1->argon2-cffi-bindings->argon2-cffi->minio>=7.0.0->pymilvus) (2.20)\n",
      "Requirement already satisfied: ply==3.11 in /usr/lib/python3.9/site-packages (from pycparser->cffi>=1.0.1->argon2-cffi-bindings->argon2-cffi->minio>=7.0.0->pymilvus) (3.11)\n",
      "Requirement already satisfied: charset-normalizer<4,>=2 in /usr/local/lib64/python3.9/site-packages (from requests->pymilvus) (3.3.0)\n",
      "Requirement already satisfied: idna<4,>=2.5 in /usr/lib/python3.9/site-packages (from requests->pymilvus) (2.10)\n",
      "\u001b[33mWARNING: Running pip as the 'root' user can result in broken permissions and conflicting behaviour with the system package manager. It is recommended to use a virtual environment instead: https://pip.pypa.io/warnings/venv\u001b[0m\n",
      "Requirement already satisfied: sentence_transformers in /usr/local/lib/python3.9/site-packages (2.5.1)\n",
      "Requirement already satisfied: tqdm in /usr/local/lib/python3.9/site-packages (from sentence_transformers) (4.66.2)\n",
      "Requirement already satisfied: numpy in /usr/local/lib64/python3.9/site-packages (from sentence_transformers) (1.26.1)\n",
      "Requirement already satisfied: transformers<5.0.0,>=4.32.0 in /usr/local/lib/python3.9/site-packages (from sentence_transformers) (4.38.2)\n",
      "Requirement already satisfied: torch>=1.11.0 in /usr/local/lib64/python3.9/site-packages (from sentence_transformers) (2.2.1)\n",
      "Requirement already satisfied: huggingface-hub>=0.15.1 in /usr/local/lib/python3.9/site-packages (from sentence_transformers) (0.21.4)\n",
      "Requirement already satisfied: Pillow in /usr/local/lib64/python3.9/site-packages (from sentence_transformers) (10.1.0)\n",
      "Requirement already satisfied: scipy in /usr/local/lib64/python3.9/site-packages (from sentence_transformers) (1.12.0)\n",
      "Requirement already satisfied: scikit-learn in /usr/local/lib64/python3.9/site-packages (from sentence_transformers) (1.4.1.post1)\n",
      "Requirement already satisfied: fsspec>=2023.5.0 in /usr/local/lib/python3.9/site-packages (from huggingface-hub>=0.15.1->sentence_transformers) (2024.2.0)\n",
      "Requirement already satisfied: typing-extensions>=3.7.4.3 in /usr/local/lib/python3.9/site-packages (from huggingface-hub>=0.15.1->sentence_transformers) (4.8.0)\n",
      "Requirement already satisfied: filelock in /usr/local/lib/python3.9/site-packages (from huggingface-hub>=0.15.1->sentence_transformers) (3.13.1)\n",
      "Requirement already satisfied: pyyaml>=5.1 in /usr/lib64/python3.9/site-packages (from huggingface-hub>=0.15.1->sentence_transformers) (5.4.1)\n",
      "Requirement already satisfied: packaging>=20.9 in /usr/local/lib/python3.9/site-packages (from huggingface-hub>=0.15.1->sentence_transformers) (23.2)\n",
      "Requirement already satisfied: requests in /usr/local/lib/python3.9/site-packages (from huggingface-hub>=0.15.1->sentence_transformers) (2.31.0)\n",
      "Requirement already satisfied: nvidia-cudnn-cu12==8.9.2.26 in /usr/local/lib/python3.9/site-packages (from torch>=1.11.0->sentence_transformers) (8.9.2.26)\n",
      "Requirement already satisfied: nvidia-nvtx-cu12==12.1.105 in /usr/local/lib/python3.9/site-packages (from torch>=1.11.0->sentence_transformers) (12.1.105)\n",
      "Requirement already satisfied: nvidia-cuda-nvrtc-cu12==12.1.105 in /usr/local/lib/python3.9/site-packages (from torch>=1.11.0->sentence_transformers) (12.1.105)\n",
      "Requirement already satisfied: nvidia-curand-cu12==10.3.2.106 in /usr/local/lib/python3.9/site-packages (from torch>=1.11.0->sentence_transformers) (10.3.2.106)\n",
      "Requirement already satisfied: nvidia-cuda-cupti-cu12==12.1.105 in /usr/local/lib/python3.9/site-packages (from torch>=1.11.0->sentence_transformers) (12.1.105)\n",
      "Requirement already satisfied: nvidia-nccl-cu12==2.19.3 in /usr/local/lib/python3.9/site-packages (from torch>=1.11.0->sentence_transformers) (2.19.3)\n",
      "Requirement already satisfied: nvidia-cusolver-cu12==11.4.5.107 in /usr/local/lib/python3.9/site-packages (from torch>=1.11.0->sentence_transformers) (11.4.5.107)\n",
      "Requirement already satisfied: nvidia-cusparse-cu12==12.1.0.106 in /usr/local/lib/python3.9/site-packages (from torch>=1.11.0->sentence_transformers) (12.1.0.106)\n",
      "Requirement already satisfied: triton==2.2.0 in /usr/local/lib64/python3.9/site-packages (from torch>=1.11.0->sentence_transformers) (2.2.0)\n",
      "Requirement already satisfied: nvidia-cufft-cu12==11.0.2.54 in /usr/local/lib/python3.9/site-packages (from torch>=1.11.0->sentence_transformers) (11.0.2.54)\n",
      "Requirement already satisfied: jinja2 in /usr/local/lib/python3.9/site-packages (from torch>=1.11.0->sentence_transformers) (3.1.2)\n",
      "Requirement already satisfied: nvidia-cublas-cu12==12.1.3.1 in /usr/local/lib/python3.9/site-packages (from torch>=1.11.0->sentence_transformers) (12.1.3.1)\n",
      "Requirement already satisfied: nvidia-cuda-runtime-cu12==12.1.105 in /usr/local/lib/python3.9/site-packages (from torch>=1.11.0->sentence_transformers) (12.1.105)\n",
      "Requirement already satisfied: networkx in /usr/local/lib/python3.9/site-packages (from torch>=1.11.0->sentence_transformers) (3.2.1)\n",
      "Requirement already satisfied: sympy in /usr/local/lib/python3.9/site-packages (from torch>=1.11.0->sentence_transformers) (1.12)\n",
      "Requirement already satisfied: nvidia-nvjitlink-cu12 in /usr/local/lib/python3.9/site-packages (from nvidia-cusolver-cu12==11.4.5.107->torch>=1.11.0->sentence_transformers) (12.4.99)\n",
      "Requirement already satisfied: safetensors>=0.4.1 in /usr/local/lib64/python3.9/site-packages (from transformers<5.0.0,>=4.32.0->sentence_transformers) (0.4.2)\n",
      "Requirement already satisfied: tokenizers<0.19,>=0.14 in /usr/local/lib64/python3.9/site-packages (from transformers<5.0.0,>=4.32.0->sentence_transformers) (0.15.2)\n",
      "Requirement already satisfied: regex!=2019.12.17 in /usr/local/lib64/python3.9/site-packages (from transformers<5.0.0,>=4.32.0->sentence_transformers) (2023.12.25)\n",
      "Requirement already satisfied: MarkupSafe>=2.0 in /usr/local/lib64/python3.9/site-packages (from jinja2->torch>=1.11.0->sentence_transformers) (2.1.3)\n",
      "Requirement already satisfied: certifi>=2017.4.17 in /usr/local/lib/python3.9/site-packages (from requests->huggingface-hub>=0.15.1->sentence_transformers) (2023.7.22)\n",
      "Requirement already satisfied: idna<4,>=2.5 in /usr/lib/python3.9/site-packages (from requests->huggingface-hub>=0.15.1->sentence_transformers) (2.10)\n",
      "Requirement already satisfied: charset-normalizer<4,>=2 in /usr/local/lib64/python3.9/site-packages (from requests->huggingface-hub>=0.15.1->sentence_transformers) (3.3.0)\n",
      "Requirement already satisfied: urllib3<3,>=1.21.1 in /usr/lib/python3.9/site-packages (from requests->huggingface-hub>=0.15.1->sentence_transformers) (1.26.5)\n",
      "Requirement already satisfied: joblib>=1.2.0 in /usr/local/lib/python3.9/site-packages (from scikit-learn->sentence_transformers) (1.3.2)\n",
      "Requirement already satisfied: threadpoolctl>=2.0.0 in /usr/local/lib/python3.9/site-packages (from scikit-learn->sentence_transformers) (3.3.0)\n",
      "Requirement already satisfied: mpmath>=0.19 in /usr/local/lib/python3.9/site-packages (from sympy->torch>=1.11.0->sentence_transformers) (1.3.0)\n",
      "\u001b[33mWARNING: Running pip as the 'root' user can result in broken permissions and conflicting behaviour with the system package manager. It is recommended to use a virtual environment instead: https://pip.pypa.io/warnings/venv\u001b[0m\n",
      "Requirement already satisfied: grpcio==1.60.0 in /usr/local/lib64/python3.9/site-packages (1.60.0)\n",
      "\u001b[33mWARNING: Running pip as the 'root' user can result in broken permissions and conflicting behaviour with the system package manager. It is recommended to use a virtual environment instead: https://pip.pypa.io/warnings/venv\u001b[0m\n"
     ]
    }
   ],
   "source": [
    "!pip install python-dotenv\n",
    "!pip install wikipedia\n",
    "!pip install pymilvus\n",
    "!pip install sentence_transformers\n",
    "!pip install grpcio==1.60.0 "
   ]
  },
  {
   "cell_type": "markdown",
   "id": "696ae98b-4c1c-47be-a39d-7841b6cc5002",
   "metadata": {},
   "source": [
    "### 1. Connect to watsonx.data"
   ]
  },
  {
   "cell_type": "code",
   "execution_count": 35,
   "id": "5d65d50e-d9ff-41c6-bca3-5578fa4e3d93",
   "metadata": {},
   "outputs": [
    {
     "name": "stdout",
     "output_type": "stream",
     "text": [
      "Can't use SSL_get_servername\n",
      "depth=0 C = YY, ST = XX, L = Home-Town, O = Data and AI, OU = For-CPD, emailAddress = dummy@example.dum, CN = Dummy-Self-signed-Cert\n",
      "verify error:num=18:self-signed certificate\n",
      "verify return:1\n",
      "depth=0 C = YY, ST = XX, L = Home-Town, O = Data and AI, OU = For-CPD, emailAddress = dummy@example.dum, CN = Dummy-Self-signed-Cert\n",
      "verify return:1\n",
      "DONE\n"
     ]
    }
   ],
   "source": [
    "!rm -f /tmp/presto.cert\n",
    "!echo QUIT | openssl s_client -showcerts -connect localhost:8443 | awk '/-----BEGIN CERTIFICATE-----/ {p=1}; p; /-----END CERTIFICATE-----/ {p=0}' > /tmp/presto.crt"
   ]
  },
  {
   "cell_type": "code",
   "execution_count": 36,
   "id": "2d6e2ce4-f668-485b-a4eb-0c8c59b0e1fc",
   "metadata": {},
   "outputs": [
    {
     "name": "stdout",
     "output_type": "stream",
     "text": [
      "Presto Extensions Loaded.\n"
     ]
    }
   ],
   "source": [
    "%run presto.ipynb"
   ]
  },
  {
   "cell_type": "code",
   "execution_count": 37,
   "id": "9c7c1b33-0deb-49b0-88f8-69b05ebb9084",
   "metadata": {},
   "outputs": [
    {
     "name": "stdout",
     "output_type": "stream",
     "text": [
      "Connection successful.\n"
     ]
    }
   ],
   "source": [
    "%%sql\n",
    "   connect\n",
    "   userid=ibmlhadmin\n",
    "   password=password\n",
    "   hostname=watsonxdata\n",
    "   port=8443\n",
    "   catalog=tpch\n",
    "   schema=tiny\n",
    "   certfile=/certs/lh-ssl-ts.crt"
   ]
  },
  {
   "cell_type": "markdown",
   "id": "ae179cac-13b8-4856-91da-2fbaadabe7be",
   "metadata": {},
   "source": [
    "## 2. Connect to Milvus"
   ]
  },
  {
   "cell_type": "markdown",
   "id": "a1213aa8-d2bc-40f7-b049-4818e0b88626",
   "metadata": {},
   "source": [
    "#### Milvus Connection Settings"
   ]
  },
  {
   "cell_type": "code",
   "execution_count": 38,
   "id": "f37cc34f-8962-4f94-b533-2b5719dd76f2",
   "metadata": {},
   "outputs": [],
   "source": [
    "host            = 'watsonxdata'\n",
    "port            = 19530\n",
    "user            = 'ibmlhadmin'\n",
    "password        = 'password'\n",
    "server_pem_path = '/tmp/presto.crt'"
   ]
  },
  {
   "cell_type": "markdown",
   "id": "531096a8-d363-4715-aec1-b32ee38b4d1d",
   "metadata": {},
   "source": [
    "#### Generate a Connection to Milvus"
   ]
  },
  {
   "cell_type": "code",
   "execution_count": 39,
   "id": "a5954387-046a-4f3d-a41e-a9bff19c979c",
   "metadata": {},
   "outputs": [],
   "source": [
    "from pymilvus import(\n",
    "    Milvus,\n",
    "    IndexType,\n",
    "    Status,\n",
    "    connections,\n",
    "    FieldSchema,\n",
    "    DataType,\n",
    "    Collection,\n",
    "    CollectionSchema,\n",
    ")\n",
    "\n",
    "connections.connect(alias='default',\n",
    "                   host=host,\n",
    "                   port=port,\n",
    "                   user=user,\n",
    "                   password=password,\n",
    "                   server_pem_path=server_pem_path,\n",
    "                   server_name='watsonxdata',\n",
    "                   secure=True)"
   ]
  },
  {
   "cell_type": "markdown",
   "id": "3c6d49fa-8275-403c-962c-1738f4e17fcf",
   "metadata": {},
   "source": [
    "## 3. Create a Collection in Milvus\n",
    "This code will drop the wiki_articles collection if it exists, and then recreate it. This script should return the following text.\n",
    "```\n",
    "Status(code=0, message=)\n",
    "```"
   ]
  },
  {
   "cell_type": "code",
   "execution_count": 40,
   "id": "1cf2243d-f81e-4324-971c-44dcf68b3a1f",
   "metadata": {},
   "outputs": [
    {
     "data": {
      "text/plain": [
       "Status(code=0, message=)"
      ]
     },
     "execution_count": 40,
     "metadata": {},
     "output_type": "execute_result"
    }
   ],
   "source": [
    "from pymilvus import utility\n",
    "\n",
    "utility.drop_collection(\"wiki_articles\")\n",
    "\n",
    "fields = [\n",
    "    FieldSchema(name=\"id\", dtype=DataType.INT64, is_primary=True, auto_id=True), # Primary key\n",
    "    FieldSchema(name=\"article_text\", dtype=DataType.VARCHAR, max_length=2500,),\n",
    "    FieldSchema(name=\"article_title\", dtype=DataType.VARCHAR, max_length=200,),\n",
    "    FieldSchema(name=\"vector\", dtype=DataType.FLOAT_VECTOR, dim=384),\n",
    "]\n",
    "\n",
    "schema = CollectionSchema(fields, \"wikipedia article collection schema\")\n",
    "\n",
    "wiki_collection = Collection(\"wiki_articles\", schema)\n",
    "\n",
    "# Create index\n",
    "index_params = {\n",
    "        'metric_type':'L2',\n",
    "        'index_type':\"IVF_FLAT\",\n",
    "        'params':{\"nlist\":2048}\n",
    "}\n",
    "\n",
    "wiki_collection.create_index(field_name=\"vector\", index_params=index_params)"
   ]
  },
  {
   "cell_type": "markdown",
   "id": "7f67701f-24a5-4aac-9038-05b262a39696",
   "metadata": {},
   "source": [
    "#### Double Check that the Schema Exists"
   ]
  },
  {
   "cell_type": "code",
   "execution_count": 41,
   "id": "fa147d48-dba2-4811-a9ba-47b6b1606690",
   "metadata": {},
   "outputs": [
    {
     "data": {
      "text/plain": [
       "['wiki_articles']"
      ]
     },
     "execution_count": 41,
     "metadata": {},
     "output_type": "execute_result"
    }
   ],
   "source": [
    "from pymilvus import utility\n",
    "utility.list_collections()"
   ]
  },
  {
   "cell_type": "markdown",
   "id": "162fd740-8bc5-44ae-a5c5-8c7daba82298",
   "metadata": {},
   "source": [
    "### 4. Insert Vectors into Milvus\n",
    "\n",
    "Here we read data from the watsonx.data table. We pull text chunks and titles from the database, being sure to separate them out into separate lists. We then vectorize using the `sentence-transformers/all-MiniLM-L6-v2` sentence transformer model. Learn more about Hugging Face sentence transformers here: [Sentence Transformers](https://huggingface.co/sentence-transformers/all-MiniLM-L6-v2).\n",
    "\n",
    "It is important we assemble the article text, article titles and vector embeddings into a `data` object. This object will be used to load the data into Milvus."
   ]
  },
  {
   "cell_type": "code",
   "execution_count": 42,
   "id": "4d2b3cca-ca4a-4ca1-8497-5e8b22ef0949",
   "metadata": {},
   "outputs": [
    {
     "name": "stdout",
     "output_type": "stream",
     "text": [
      "Done\n"
     ]
    }
   ],
   "source": [
    "import pandas as pd\n",
    "from sentence_transformers import SentenceTransformer\n",
    "from pymilvus import Collection, connections\n",
    "import warnings\n",
    "import os\n",
    "#os.environ[\"TOKENIZERS_PARALLELISM\"] = \"false\"\n",
    "\n",
    "warnings.filterwarnings('ignore')\n",
    "\n",
    "# Download Wikipedia articles from watsonx.data using the engine we created earlier \n",
    "\n",
    "articles_df = %sql --pandas SELECT * from hive_data.rag_docs.web_wikipedia\n",
    "\n",
    "# extract text + titles\n",
    "\n",
    "passages = articles_df['text'].tolist()\n",
    "passage_titles = articles_df['title'].tolist()\n",
    "\n",
    "# Create vector embeddings + data\n",
    "\n",
    "model = SentenceTransformer('sentence-transformers/all-MiniLM-L6-v2') # 384 dim\n",
    "passage_embeddings = model.encode(passages)\n",
    "\n",
    "basic_collection = Collection(\"wiki_articles\") \n",
    "data = [\n",
    "    passages,\n",
    "    passage_titles,\n",
    "    passage_embeddings\n",
    "]\n",
    "out = basic_collection.insert(data)\n",
    "basic_collection.flush()  # Ensures data persistence\n",
    "print(\"Done\")"
   ]
  },
  {
   "cell_type": "markdown",
   "id": "6c331f52-7d9d-4608-a719-01196eeae486",
   "metadata": {},
   "source": [
    "#### Check that the Collection has been Loaded"
   ]
  },
  {
   "cell_type": "code",
   "execution_count": 43,
   "id": "d99d084f-b8a1-4a88-b50e-5cd90f625035",
   "metadata": {},
   "outputs": [
    {
     "data": {
      "text/plain": [
       "53"
      ]
     },
     "execution_count": 43,
     "metadata": {},
     "output_type": "execute_result"
    }
   ],
   "source": [
    "basic_collection = Collection(\"wiki_articles\") \n",
    "basic_collection.load()\n",
    "basic_collection.num_entities "
   ]
  },
  {
   "cell_type": "markdown",
   "id": "0830a9ea-4683-42be-8a83-a99629cab77e",
   "metadata": {},
   "source": [
    "## 5. Query Docs from Milvus through Semantic Search\n",
    "After gathering the data from Wikipedia and then vectorizing it and inserting into Milvus, we are now ready to perform queries against the vector database. We will use the `sentence-transformers/all-MiniLM-L6-v2` model to generate the query vector and then use Milvus to find the most similar vectors in the database."
   ]
  },
  {
   "cell_type": "markdown",
   "id": "c4ffc8e8-383a-4798-bda5-8ddb95d86835",
   "metadata": {},
   "source": [
    "#### Create a Query Function\n",
    "The following function will be used to query the Milvus database."
   ]
  },
  {
   "cell_type": "code",
   "execution_count": 44,
   "id": "96297151-2f1f-411e-885b-bd8da0d01d85",
   "metadata": {},
   "outputs": [],
   "source": [
    "from sentence_transformers import SentenceTransformer\n",
    "from pymilvus import(\n",
    "    Milvus,\n",
    "    IndexType,\n",
    "    Status,\n",
    "    connections,\n",
    "    FieldSchema,\n",
    "    DataType,\n",
    "    Collection,\n",
    "    CollectionSchema,\n",
    ")\n",
    "\n",
    "def query_milvus(query, num_results=5):\n",
    "    \n",
    "    # Vectorize query\n",
    "    model = SentenceTransformer('sentence-transformers/all-MiniLM-L6-v2') # 384 dim\n",
    "    query_embeddings = model.encode([query])\n",
    "\n",
    "    # Search\n",
    "    search_params = {\n",
    "        \"metric_type\": \"L2\", \n",
    "        \"params\": {\"nprobe\": 5}\n",
    "    }\n",
    "    results = basic_collection.search(\n",
    "        data=query_embeddings, \n",
    "        anns_field=\"vector\", \n",
    "        param=search_params,\n",
    "        limit=num_results,\n",
    "        expr=None, \n",
    "        output_fields=['article_text'],\n",
    "    )\n",
    "    return results"
   ]
  },
  {
   "cell_type": "markdown",
   "id": "d035f2a5-da27-49fe-9822-efa9c75b568b",
   "metadata": {},
   "source": [
    "#### Query Question\n",
    "Consider how climate change may relate to other industries and processes related to your business. Select one of the questions below to feed into Milvus query."
   ]
  },
  {
   "cell_type": "code",
   "execution_count": 45,
   "id": "336adfb9-9266-4378-9f6b-1d6dc62486eb",
   "metadata": {},
   "outputs": [],
   "source": [
    "question_text = \"What can my company do to help fight climate change?\"\n",
    "#question_text = \"How do businesses negatively effect climate change?\"\n",
    "#question_text = \"What can a businesses do to have a positive effect on climate change?\"\n",
    "#question_text = \"How can a business reduce their carbon footprint?\""
   ]
  },
  {
   "cell_type": "markdown",
   "id": "9700c9b9-d27e-4eb8-a1bf-966e434a9be0",
   "metadata": {},
   "source": [
    "#### Search a Question in Milvus\n",
    "An embedding is made for the question being asked. It is then used to search for the most relevant chunks in Milvus. The top 3 related chunks are retrieved below and can be used for a large language prompt.\n",
    "\n",
    "The documents that best match the question are found in the list below."
   ]
  },
  {
   "cell_type": "code",
   "execution_count": 47,
   "id": "541d200f-1cca-44fd-95e4-ace6c9c48e7f",
   "metadata": {},
   "outputs": [
    {
     "data": {
      "text/html": [
       "<style type=\"text/css\">\n",
       "#T_22e38 caption {\n",
       "  color: blue;\n",
       "  font-size: 20px;\n",
       "}\n",
       "#T_22e38_row0_col0, #T_22e38_row0_col1, #T_22e38_row0_col2, #T_22e38_row1_col0, #T_22e38_row1_col1, #T_22e38_row1_col2, #T_22e38_row2_col0, #T_22e38_row2_col1, #T_22e38_row2_col2, #T_22e38_row3_col0, #T_22e38_row3_col1, #T_22e38_row3_col2, #T_22e38_row4_col0, #T_22e38_row4_col1, #T_22e38_row4_col2 {\n",
       "  text-align: left;\n",
       "}\n",
       "</style>\n",
       "<table id=\"T_22e38\">\n",
       "  <caption>What can my company do to help fight climate change?</caption>\n",
       "  <thead>\n",
       "    <tr>\n",
       "      <th class=\"blank level0\" >&nbsp;</th>\n",
       "      <th id=\"T_22e38_level0_col0\" class=\"col_heading level0 col0\" >ID</th>\n",
       "      <th id=\"T_22e38_level0_col1\" class=\"col_heading level0 col1\" >Distance</th>\n",
       "      <th id=\"T_22e38_level0_col2\" class=\"col_heading level0 col2\" >Article</th>\n",
       "    </tr>\n",
       "  </thead>\n",
       "  <tbody>\n",
       "    <tr>\n",
       "      <th id=\"T_22e38_level0_row0\" class=\"row_heading level0 row0\" >4</th>\n",
       "      <td id=\"T_22e38_row0_col0\" class=\"data row0 col0\" >452740999904618768</td>\n",
       "      <td id=\"T_22e38_row0_col1\" class=\"data row0 col1\" >0.980102</td>\n",
       "      <td id=\"T_22e38_row0_col2\" class=\"data row0 col2\" >Although there is no single pathway to limit global warming to 1.5 or 2 °C, most scenarios and strategies see a major increase in the use of renewable energy in combination with increased energy efficiency measures to generate the needed greenhouse gas reductions. To reduce pressures on ecosystems and enhance their carbon sequestration capabilities, changes would also be necessary in agriculture and forestry, such as preventing deforestation and restoring natural ecosystems by reforestation. Other approaches to mitigating climate change have a higher level of risk. Scenarios that limit global warming to 1.5 °C typically project the large-scale use of carbon dioxide removal methods over the 21st century. There are concerns, though, about over-reliance on these technologies, and environmental impacts. Solar radiation modification (SRM) is also a possible supplement to deep reductions in emissions. However, SRM raises significant ethical and legal concerns, and the risks are imperfectly understood. === Clean energy === Renewable energy is key to limiting climate change. For decades, fossil fuels have accounted for roughly 80%% of the world's energy use. The remaining share has been split between nuclear power and renewables (including hydropower, bioenergy, wind and solar power and geothermal energy). Fossil fuel use is expected to peak in absolute terms prior to 2030 and then to decline, with coal use experiencing the sharpest reductions.</td>\n",
       "    </tr>\n",
       "    <tr>\n",
       "      <th id=\"T_22e38_level0_row1\" class=\"row_heading level0 row1\" >3</th>\n",
       "      <td id=\"T_22e38_row1_col0\" class=\"data row1 col0\" >452740999904618769</td>\n",
       "      <td id=\"T_22e38_row1_col1\" class=\"data row1 col1\" >0.950470</td>\n",
       "      <td id=\"T_22e38_row1_col2\" class=\"data row1 col2\" >Oxfam found that in 2023 the wealthiest 10%% of people were responsible for 50%% of global emissions, while the bottom 50%% were responsible for just 8%%. Production of emissions is another way to look at responsibility: under that approach, the top 21 fossil fuel companies would owe cumulative climate reparations of $5.4 trillion over the period 2025–2050. To achieve a just transition, people working in the fossil fuel sector would also need other jobs, and their communities would need investments. === International climate agreements === Nearly all countries in the world are parties to the 1994 United Nations Framework Convention on Climate Change (UNFCCC). The goal of the UNFCCC is to prevent dangerous human interference with the climate system. As stated in the convention, this requires that greenhouse gas concentrations are stabilized in the atmosphere at a level where ecosystems can adapt naturally to climate change, food production is not threatened, and economic development can be sustained. The UNFCCC does not itself restrict emissions but rather provides a framework for protocols that do. Global emissions have risen since the UNFCCC was signed. Its yearly conferences are the stage of global negotiations.</td>\n",
       "    </tr>\n",
       "    <tr>\n",
       "      <th id=\"T_22e38_level0_row2\" class=\"row_heading level0 row2\" >2</th>\n",
       "      <td id=\"T_22e38_row2_col0\" class=\"data row2 col0\" >452740999904618806</td>\n",
       "      <td id=\"T_22e38_row2_col1\" class=\"data row2 col1\" >0.930857</td>\n",
       "      <td id=\"T_22e38_row2_col2\" class=\"data row2 col2\" >There are synergies but also trade-offs between adaptation and mitigation. An example for synergy is increased food productivity, which has large benefits for both adaptation and mitigation. An example of a trade-off is that increased use of air conditioning allows people to better cope with heat, but increases energy demand. Another trade-off example is that more compact urban development may reduce emissions from transport and construction, but may also increase the urban heat island effect, exposing people to heat-related health risks. == Policies and politics == Countries that are most vulnerable to climate change have typically been responsible for a small share of global emissions. This raises questions about justice and fairness. Limiting global warming makes it much easier to achieve the UN's Sustainable Development Goals, such as eradicating poverty and reducing inequalities. The connection is recognized in Sustainable Development Goal 13 which is to \"take urgent action to combat climate change and its impacts\". The goals on food, clean water and ecosystem protection have synergies with climate mitigation. The geopolitics of climate change is complex. It has often been framed as a free-rider problem, in which all countries benefit from mitigation done by other countries, but individual countries would lose from switching to a low-carbon economy themselves. Sometimes mitigation also has localized benefits though.</td>\n",
       "    </tr>\n",
       "    <tr>\n",
       "      <th id=\"T_22e38_level0_row3\" class=\"row_heading level0 row3\" >1</th>\n",
       "      <td id=\"T_22e38_row3_col0\" class=\"data row3 col0\" >452740999904618762</td>\n",
       "      <td id=\"T_22e38_row3_col1\" class=\"data row3 col1\" >0.926673</td>\n",
       "      <td id=\"T_22e38_row3_col2\" class=\"data row3 col2\" >If that fails, managed retreat may be needed. There are economic barriers for tackling dangerous heat impact. Avoiding strenuous work or having air conditioning is not possible for everybody. In agriculture, adaptation options include a switch to more sustainable diets, diversification, erosion control, and genetic improvements for increased tolerance to a changing climate. Insurance allows for risk-sharing, but is often difficult to get for people on lower incomes. Education, migration and early warning systems can reduce climate vulnerability. Planting mangroves or encouraging other coastal vegetation can buffer storms. Ecosystems adapt to climate change, a process that can be supported by human intervention. By increasing connectivity between ecosystems, species can migrate to more favourable climate conditions. Species can also be introduced to areas acquiring a favourable climate. Protection and restoration of natural and semi-natural areas helps build resilience, making it easier for ecosystems to adapt. Many of the actions that promote adaptation in ecosystems, also help humans adapt via ecosystem-based adaptation. For instance, restoration of natural fire regimes makes catastrophic fires less likely, and reduces human exposure. Giving rivers more space allows for more water storage in the natural system, reducing flood risk.</td>\n",
       "    </tr>\n",
       "    <tr>\n",
       "      <th id=\"T_22e38_level0_row4\" class=\"row_heading level0 row4\" >0</th>\n",
       "      <td id=\"T_22e38_row4_col0\" class=\"data row4 col0\" >452740999904618771</td>\n",
       "      <td id=\"T_22e38_row4_col1\" class=\"data row4 col1\" >0.859215</td>\n",
       "      <td id=\"T_22e38_row4_col2\" class=\"data row4 col2\" >==== Climate movement ==== Climate protests demand that political leaders take action to prevent climate change. They can take the form of public demonstrations, fossil fuel divestment, lawsuits and other activities. Prominent demonstrations include the School Strike for Climate. In this initiative, young people across the globe have been protesting since 2018 by skipping school on Fridays, inspired by Swedish teenager Greta Thunberg. Mass civil disobedience actions by groups like Extinction Rebellion have protested by disrupting roads and public transport. Litigation is increasingly used as a tool to strengthen climate action from public institutions and companies. Activists also initiate lawsuits which target governments and demand that they take ambitious action or enforce existing laws on climate change. Lawsuits against fossil-fuel companies generally seek compensation for loss and damage. == History == === Early discoveries === Scientists in the 19th century such as Alexander von Humboldt began to foresee the effects of climate change. In the 1820s, Joseph Fourier proposed the greenhouse effect to explain why Earth's temperature was higher than the Sun's energy alone could explain. Earth's atmosphere is transparent to sunlight, so sunlight reaches the surface where it is converted to heat.</td>\n",
       "    </tr>\n",
       "  </tbody>\n",
       "</table>\n"
      ],
      "text/plain": [
       "<pandas.io.formats.style.Styler at 0x7f0c3a89d880>"
      ]
     },
     "execution_count": 47,
     "metadata": {},
     "output_type": "execute_result"
    }
   ],
   "source": [
    "import re\n",
    "num_results = 5\n",
    "results = query_milvus(question_text, num_results)\n",
    "\n",
    "display_articles = []\n",
    "relevant_chunks  = []\n",
    "for i in range(num_results):\n",
    "    display_articles.append({\n",
    "        \"ID\"      : results[0].ids[i],\n",
    "        \"Distance\": results[0].distances[i],\n",
    "        # \"Article\" : re.sub(r\"^.*?\\. (.*$)\",r\"\\1\",results[0][i].entity.get('article_text'))\n",
    "        \"Article\" : re.sub(r\"^.*?\\. (.*\\.).*$\",r\"\\1\",results[0][i].entity.get('article_text'))        \n",
    "    })\n",
    "    relevant_chunks.append(re.sub(r\"^.*?\\. (.*\\.).*$\",r\"\\1\",results[0][i].entity.get('article_text')))\n",
    "\n",
    "df = pd.DataFrame.from_dict(display_articles).sort_values(\"Distance\",ascending=False)\n",
    "df.style.set_properties(**{'text-align': 'left'}).set_caption(question_text).set_table_styles([{\n",
    "    'selector': 'caption',\n",
    "    'props': [\n",
    "        ('color', 'blue'),\n",
    "        ('font-size', '20px')\n",
    "    ]\n",
    "}])"
   ]
  }
 ],
 "metadata": {
  "kernelspec": {
   "display_name": "Python 3 (ipykernel)",
   "language": "python",
   "name": "python3"
  },
  "language_info": {
   "codemirror_mode": {
    "name": "ipython",
    "version": 3
   },
   "file_extension": ".py",
   "mimetype": "text/x-python",
   "name": "python",
   "nbconvert_exporter": "python",
   "pygments_lexer": "ipython3",
   "version": "3.9.18"
  },
  "vscode": {
   "interpreter": {
    "hash": "aee8b7b246df8f9039afb4144a1f6fd8d2ca17a180786b69acc140d282b71a49"
   }
  }
 },
 "nbformat": 4,
 "nbformat_minor": 5
}
