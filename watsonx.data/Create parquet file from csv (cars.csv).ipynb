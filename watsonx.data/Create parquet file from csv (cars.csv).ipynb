{
 "cells": [
  {
   "cell_type": "code",
   "execution_count": 1,
   "id": "fc596c3f",
   "metadata": {},
   "outputs": [],
   "source": [
    "## https://arrow.apache.org/docs/python/generated/pyarrow.parquet.read_table.html"
   ]
  },
  {
   "cell_type": "code",
   "execution_count": 2,
   "id": "b4fc246c",
   "metadata": {},
   "outputs": [],
   "source": [
    "## Background\n",
    "# Using pyarrow to convert csv to parquet file because this method can avoid int32 to be automatically converted into in64 (BigInt)\n",
    "# watsonx.data does not support BigInt yet (up to Sep. 2023)"
   ]
  },
  {
   "cell_type": "code",
   "execution_count": 3,
   "id": "3e22c919",
   "metadata": {},
   "outputs": [
    {
     "data": {
      "text/plain": [
       "pyarrow.Table\n",
       "Car: string\n",
       "MPG: double\n",
       "Cylinders: int64\n",
       "Displacement: double\n",
       "Horsepower: double\n",
       "Weight: double\n",
       "Acceleration: double\n",
       "Model: int64\n",
       "Origin: string\n",
       "----\n",
       "Car: [[\"Chevrolet Chevelle Malibu\",\"Buick Skylark 320\",\"Plymouth Satellite\",\"AMC Rebel SST\",\"Ford Torino\",...,\"Ford Mustang GL\",\"Volkswagen Pickup\",\"Dodge Rampage\",\"Ford Ranger\",\"Chevy S-10\"]]\n",
       "MPG: [[18,15,18,16,17,...,27,44,32,28,31]]\n",
       "Cylinders: [[8,8,8,8,8,...,4,4,4,4,4]]\n",
       "Displacement: [[307,350,318,304,302,...,140,97,135,120,119]]\n",
       "Horsepower: [[130,165,150,150,140,...,86,52,84,79,82]]\n",
       "Weight: [[3504,3693,3436,3433,3449,...,2790,2130,2295,2625,2720]]\n",
       "Acceleration: [[12,11.5,11,12,10.5,...,15.6,24.6,11.6,18.6,19.4]]\n",
       "Model: [[70,70,70,70,70,...,82,82,82,82,82]]\n",
       "Origin: [[\"US\",\"US\",\"US\",\"US\",\"US\",...,\"US\",\"Europe\",\"US\",\"US\",\"US\"]]"
      ]
     },
     "execution_count": 3,
     "metadata": {},
     "output_type": "execute_result"
    }
   ],
   "source": [
    "import pyarrow.csv as csv\n",
    "import pyarrow.parquet as pq\n",
    "\n",
    "# Read csv as pyarrow table\n",
    "tbl = csv.read_csv('cars.csv')\n",
    "tbl"
   ]
  },
  {
   "cell_type": "code",
   "execution_count": 4,
   "id": "33e4b1cd",
   "metadata": {},
   "outputs": [],
   "source": [
    "# Write as parquet data without partition\n",
    "pq.write_to_dataset(tbl, root_path='cars_parquet')"
   ]
  },
  {
   "cell_type": "code",
   "execution_count": 5,
   "id": "c57b2245",
   "metadata": {},
   "outputs": [],
   "source": [
    "# Write as parquet data with specific col as partition\n",
    "#pq.write_to_dataset(tbl, root_path='cars',\n",
    "#                    partition_cols=['Origin'])"
   ]
  }
 ],
 "metadata": {
  "kernelspec": {
   "display_name": "Python 3 (ipykernel)",
   "language": "python",
   "name": "python3"
  },
  "language_info": {
   "codemirror_mode": {
    "name": "ipython",
    "version": 3
   },
   "file_extension": ".py",
   "mimetype": "text/x-python",
   "name": "python",
   "nbconvert_exporter": "python",
   "pygments_lexer": "ipython3",
   "version": "3.11.4"
  }
 },
 "nbformat": 4,
 "nbformat_minor": 5
}
